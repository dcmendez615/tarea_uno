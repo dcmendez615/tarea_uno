{
 "cells": [
  {
   "cell_type": "markdown",
   "metadata": {},
   "source": [
    "# Análisis Estadístico de la Actividad Física y Transporte en Ecuador usando Python.\n",
    "\n",
    "\n",
    "![Usabici](https://encolombia.com/wp-content/uploads/2017/11/Fomentar-Uso-Bicicleta.jpg)"
   ]
  },
  {
   "cell_type": "markdown",
   "metadata": {},
   "source": [
    "- Fuente: Encuesta Multipropósito Diciembre 2019 - Módulo 6 actividad física y transporte."
   ]
  },
  {
   "cell_type": "code",
   "execution_count": 475,
   "metadata": {},
   "outputs": [],
   "source": [
    "#librerias\n",
    "\n",
    "import numpy as np\n",
    "import numpy.ma as ma\n",
    "import pandas as pd\n",
    "import matplotlib.pyplot as plt\n",
    "import seaborn as sns\n",
    "from scipy import stats"
   ]
  },
  {
   "cell_type": "code",
   "execution_count": 476,
   "metadata": {},
   "outputs": [
    {
     "name": "stdout",
     "output_type": "stream",
     "text": [
      "<class 'pandas.core.frame.DataFrame'>\n"
     ]
    }
   ],
   "source": [
    "#Leyendo la bdd de la Encuesta Multiproposito\n",
    "\n",
    "path = \"C:/Users/Diana/Ejercicios_jupiter_python/201912_multibdd_personas.csv\"\n",
    "\n",
    "bdd_multi = pd.read_csv(path, sep =';')\n",
    "\n",
    "print(type(bdd_multi))"
   ]
  },
  {
   "cell_type": "code",
   "execution_count": 477,
   "metadata": {},
   "outputs": [
    {
     "data": {
      "text/plain": [
       "(40814, 81)"
      ]
     },
     "execution_count": 477,
     "metadata": {},
     "output_type": "execute_result"
    }
   ],
   "source": [
    "#Dimensiones del dataframe\n",
    "bdd_multi.shape"
   ]
  },
  {
   "cell_type": "code",
   "execution_count": 478,
   "metadata": {},
   "outputs": [
    {
     "data": {
      "text/plain": [
       "Index(['area', 'ciudad', 'conglomerado', 'vivienda', 'hogar', 'persona',\n",
       "       's1p2', 's1p3', 's1p3b', 's1p4', 's1p5a', 's1p5b', 's1p6', 's1p7',\n",
       "       's1p8', 's1p9', 's1p10', 's1p11', 's1p12a', 's1p12b', 's1p13', 's1p14a',\n",
       "       's1p14c', 's2p1', 's2p2a', 's2p2b', 's2p3', 's2p41', 's2p42', 's2p43',\n",
       "       's2p44', 's2p45', 's2p5', 's2p6', 's2p7a', 's2p7b', 's2p8', 's2p9',\n",
       "       's2p10a', 's2p10b', 's6p1a', 's6p1b', 's6p2', 's6p3', 's6p4', 's6p4a',\n",
       "       's6p4b', 's6p4c', 's6p4d', 's7p1a', 's7p1b', 's7p1a1', 's7p1b1',\n",
       "       's7p1b2', 's7p1b3', 's7p1b4', 's7p1b5', 's7p1b6', 's7p2', 's7p211',\n",
       "       's7p212', 's7p213', 's7p214', 's7p3', 's7p4', 's7p5', 's7p6', 's7p71',\n",
       "       's7p72', 's7p73', 's7p74', 's7p75', 's7p76', 's7p77', 's7p78', 's7p79',\n",
       "       'upm', 'estrato', 'fexp', 'id_hogar', 'id_per'],\n",
       "      dtype='object')"
      ]
     },
     "execution_count": 478,
     "metadata": {},
     "output_type": "execute_result"
    }
   ],
   "source": [
    "#Nombre de las variables\n",
    "\n",
    "bdd_multi.columns"
   ]
  },
  {
   "cell_type": "code",
   "execution_count": 479,
   "metadata": {},
   "outputs": [],
   "source": [
    "#Seleccionar variables de interes\n",
    "bdd_act = bdd_multi.loc[:, ['area', 'ciudad','s1p2', 's1p3','s1p12a','s6p1a', \n",
    "                            's6p1b', 's6p2', 's6p3', 's6p4', 's6p4a','s6p4b', 's6p4c', 's6p4d', 'fexp']]\n"
   ]
  },
  {
   "cell_type": "code",
   "execution_count": 480,
   "metadata": {},
   "outputs": [
    {
     "data": {
      "text/plain": [
       "(40814, 15)"
      ]
     },
     "execution_count": 480,
     "metadata": {},
     "output_type": "execute_result"
    }
   ],
   "source": [
    "#Dimensiones del dataframe\n",
    "bdd_act.shape"
   ]
  },
  {
   "cell_type": "code",
   "execution_count": 481,
   "metadata": {},
   "outputs": [
    {
     "data": {
      "text/plain": [
       "(33236, 15)"
      ]
     },
     "execution_count": 481,
     "metadata": {},
     "output_type": "execute_result"
    }
   ],
   "source": [
    "#Filtrar población objetivo. Personas de 12 años o mas\n",
    "\n",
    "mayores_act = bdd_act[bdd_act.s1p3>=12]\n",
    "mayores_act = pd.DataFrame(mayores_act)\n",
    "\n",
    "mayores_act.shape"
   ]
  },
  {
   "cell_type": "markdown",
   "metadata": {},
   "source": [
    "### Dicionario de la base de datos\n",
    "\n",
    "- **Area** :  Zona Urbano o Rural\n",
    "- **Ciudad**: Ubicación geográfica codificada con la Diviión Politico-Administrativa\n",
    "- **s1p2** :  Sexo\n",
    "- **s1p3** :  Edad\n",
    "- **s1p12a**: Nivel de instrucción\n",
    "- **s6p1a**:  ¿Utiliza bicicleta?\n",
    "- **s6p1b**:  ¿Con qué frecuencia la usa: ?\n",
    "- **s6p2**:   En su rutina diaria ¿Qué medio utiliza principalmente (…) para trasladarse desde su hogar al trabajo, establecimiento educativo, etc.?\n",
    "- **s6p3**:   ¿Cuál es la razón principal?\n",
    "- **s6p4**:   En la semana pasada, ¿Hizo ejercicios ó practicó algún deporte?\n",
    "- **s6p4a**:  ¿Cuánto tiempo? Lunes a viernes - Horas \n",
    "- **s6p4b**:  ¿Cuánto tiempo? Lunes a viernes - Minutos\n",
    "- **s6p4c**:  ¿Cuánto tiempo? Sábado y domingo - Horas\n",
    "- **s6p4d**:  ¿Cuánto tiempo? Sábado y domingo - Minutos\n",
    "- **fexp**:    Factor de expansión\n",
    "\n",
    "[cuestionario_multi_2019](https://www.ecuadorencifras.gob.ec/documentos/web-inec/Estadisticas_Sociales/TIC/2019/201912_Formulario_Multiproposito.pdf)\n"
   ]
  },
  {
   "cell_type": "code",
   "execution_count": 482,
   "metadata": {},
   "outputs": [
    {
     "data": {
      "text/plain": [
       "area        int64\n",
       "ciudad      int64\n",
       "s1p2        int64\n",
       "s1p3        int64\n",
       "s1p12a     object\n",
       "s6p1a      object\n",
       "s6p1b      object\n",
       "s6p2       object\n",
       "s6p3       object\n",
       "s6p4       object\n",
       "s6p4a      object\n",
       "s6p4b      object\n",
       "s6p4c      object\n",
       "s6p4d      object\n",
       "fexp      float64\n",
       "dtype: object"
      ]
     },
     "execution_count": 482,
     "metadata": {},
     "output_type": "execute_result"
    }
   ],
   "source": [
    "#Tipos de variables\n",
    "mayores_act.dtypes"
   ]
  },
  {
   "cell_type": "code",
   "execution_count": 483,
   "metadata": {},
   "outputs": [
    {
     "data": {
      "text/plain": [
       "area       object\n",
       "ciudad      int64\n",
       "s1p2       object\n",
       "s1p3        int64\n",
       "s1p12a     object\n",
       "s6p1a      object\n",
       "s6p1b      object\n",
       "s6p2       object\n",
       "s6p3       object\n",
       "s6p4       object\n",
       "s6p4a      object\n",
       "s6p4b      object\n",
       "s6p4c      object\n",
       "s6p4d      object\n",
       "fexp      float64\n",
       "dtype: object"
      ]
     },
     "execution_count": 483,
     "metadata": {},
     "output_type": "execute_result"
    }
   ],
   "source": [
    "#Reemplazando categorias de variables\n",
    "mayores_act.s1p2 = mayores_act.s1p2.replace({1: \"Hombre\", 2: \"Mujer\"})\n",
    "mayores_act.area = mayores_act.area.replace({1: \"Urbano\", 2: \"Rural\"})\n",
    "mayores_act.s1p12a = mayores_act.s1p12a.replace({'1': \"Ninguno\", '2': \"Alfabetizacion\",'3': \"Jardin\", '4': \"Primaria\",\n",
    "                                                 '5': \"Basica\", '6': \"Secundaria\",'7': \"Bachillerato\", '8': \"Tecnologica\",\n",
    "                                                 '9': \"Superior\", '10': \"Postgrado\"})\n",
    "mayores_act.s6p1a = mayores_act.s6p1a.replace({'1': \"Si\", '2': \"No\"})\n",
    "mayores_act.s6p1b = mayores_act.s6p1b.replace({'1': \"Diario\", '2': \"UnoSemana\", '3': \"UnoMes\", '4': \"UnoAnio\"})\n",
    "mayores_act.s6p2 = mayores_act.s6p2.replace({'1': \"AutoSolo\", '2': \"AutoCompartido\", '3': \"TPublico\", '4': \"Bicicleta\", \n",
    "                                             '5': \"Caminar\", '6': \"Otro\",'99': \"No aplica\" })\n",
    "mayores_act.s6p3 = mayores_act.s6p3.replace({'1': \"Comodidad\", '2': \"Necesidad\", '3': \"Seguridad\", '4': \"ConcienciaAmbiental\",\n",
    "                                             '5': \"Salud/Deporte\", '6': \"AhorroDinero\", '7': \"Cercania\"})\n",
    "mayores_act.s6p4 = mayores_act.s6p4.replace({'1': \"Si\", '2': \"No\"})\n",
    "mayores_act.head(10)\n",
    "mayores_act.dtypes"
   ]
  },
  {
   "cell_type": "code",
   "execution_count": 484,
   "metadata": {},
   "outputs": [],
   "source": [
    "#Cambiar tipos de variables\n",
    "mayores_act[\"ciudad\"] = mayores_act[\"ciudad\"].astype('category')\n",
    "mayores_act[\"area\"] = mayores_act[\"area\"].astype('category')\n",
    "mayores_act[\"s1p2\"] = mayores_act[\"s1p2\"].astype('category')\n",
    "mayores_act[\"s1p12a\"] = mayores_act[\"s1p12a\"].astype('category')\n",
    "mayores_act[\"s6p1a\"] = mayores_act[\"s6p1a\"].astype('category')\n",
    "mayores_act[\"s6p1b\"] = mayores_act[\"s6p1b\"].astype('category')\n",
    "mayores_act[\"s6p2\"] = mayores_act[\"s6p2\"].astype('category')\n",
    "mayores_act[\"s6p3\"] = mayores_act[\"s6p3\"].astype('category')\n",
    "mayores_act[\"s6p4\"] = mayores_act[\"s6p4\"].astype('category')\n",
    "mayores_act[\"s6p4a\"] = mayores_act[\"s6p4a\"].apply(pd.to_numeric, errors='coerce')\n",
    "mayores_act[\"s6p4b\"] = mayores_act[\"s6p4b\"].apply(pd.to_numeric, errors='coerce')\n",
    "mayores_act[\"s6p4c\"] = mayores_act[\"s6p4c\"].apply(pd.to_numeric, errors='coerce')\n",
    "mayores_act[\"s6p4d\"] = mayores_act[\"s6p4d\"].apply(pd.to_numeric, errors='coerce')\n"
   ]
  },
  {
   "cell_type": "code",
   "execution_count": 485,
   "metadata": {},
   "outputs": [
    {
     "data": {
      "text/plain": [
       "area      category\n",
       "ciudad    category\n",
       "s1p2      category\n",
       "s1p3         int64\n",
       "s1p12a    category\n",
       "s6p1a     category\n",
       "s6p1b     category\n",
       "s6p2      category\n",
       "s6p3      category\n",
       "s6p4      category\n",
       "s6p4a      float64\n",
       "s6p4b      float64\n",
       "s6p4c      float64\n",
       "s6p4d      float64\n",
       "fexp       float64\n",
       "dtype: object"
      ]
     },
     "execution_count": 485,
     "metadata": {},
     "output_type": "execute_result"
    }
   ],
   "source": [
    "#Tipos de variables\n",
    "mayores_act.dtypes"
   ]
  },
  {
   "cell_type": "code",
   "execution_count": 486,
   "metadata": {},
   "outputs": [
    {
     "data": {
      "text/plain": [
       "CategoricalDtype(categories=['No', 'Si'], ordered=False)"
      ]
     },
     "execution_count": 486,
     "metadata": {},
     "output_type": "execute_result"
    }
   ],
   "source": [
    "#Visualizar el tipo de variable cambiada\n",
    "mayores_act[\"s6p1a\"].dtypes"
   ]
  },
  {
   "cell_type": "code",
   "execution_count": 487,
   "metadata": {},
   "outputs": [
    {
     "data": {
      "text/plain": [
       "(33236, 15)"
      ]
     },
     "execution_count": 487,
     "metadata": {},
     "output_type": "execute_result"
    }
   ],
   "source": [
    "mayores_act.shape"
   ]
  },
  {
   "cell_type": "code",
   "execution_count": 488,
   "metadata": {},
   "outputs": [
    {
     "data": {
      "text/html": [
       "<div>\n",
       "<style scoped>\n",
       "    .dataframe tbody tr th:only-of-type {\n",
       "        vertical-align: middle;\n",
       "    }\n",
       "\n",
       "    .dataframe tbody tr th {\n",
       "        vertical-align: top;\n",
       "    }\n",
       "\n",
       "    .dataframe thead th {\n",
       "        text-align: right;\n",
       "    }\n",
       "</style>\n",
       "<table border=\"1\" class=\"dataframe\">\n",
       "  <thead>\n",
       "    <tr style=\"text-align: right;\">\n",
       "      <th></th>\n",
       "      <th>area</th>\n",
       "      <th>ciudad</th>\n",
       "      <th>s1p2</th>\n",
       "      <th>s1p3</th>\n",
       "      <th>s1p12a</th>\n",
       "      <th>s6p1a</th>\n",
       "      <th>s6p1b</th>\n",
       "      <th>s6p2</th>\n",
       "      <th>s6p3</th>\n",
       "      <th>s6p4</th>\n",
       "      <th>s6p4a</th>\n",
       "      <th>s6p4b</th>\n",
       "      <th>s6p4c</th>\n",
       "      <th>s6p4d</th>\n",
       "      <th>fexp</th>\n",
       "    </tr>\n",
       "  </thead>\n",
       "  <tbody>\n",
       "    <tr>\n",
       "      <th>0</th>\n",
       "      <td>Urbano</td>\n",
       "      <td>10150</td>\n",
       "      <td>Hombre</td>\n",
       "      <td>74</td>\n",
       "      <td>Postgrado</td>\n",
       "      <td>No</td>\n",
       "      <td></td>\n",
       "      <td>AutoSolo</td>\n",
       "      <td>Necesidad</td>\n",
       "      <td>Si</td>\n",
       "      <td>5.0</td>\n",
       "      <td>0.0</td>\n",
       "      <td>2.0</td>\n",
       "      <td>0.0</td>\n",
       "      <td>374.312337</td>\n",
       "    </tr>\n",
       "    <tr>\n",
       "      <th>1</th>\n",
       "      <td>Urbano</td>\n",
       "      <td>10150</td>\n",
       "      <td>Mujer</td>\n",
       "      <td>46</td>\n",
       "      <td>Superior</td>\n",
       "      <td>No</td>\n",
       "      <td></td>\n",
       "      <td>AutoCompartido</td>\n",
       "      <td>Necesidad</td>\n",
       "      <td>Si</td>\n",
       "      <td>2.0</td>\n",
       "      <td>0.0</td>\n",
       "      <td>0.0</td>\n",
       "      <td>0.0</td>\n",
       "      <td>368.820295</td>\n",
       "    </tr>\n",
       "    <tr>\n",
       "      <th>2</th>\n",
       "      <td>Urbano</td>\n",
       "      <td>10150</td>\n",
       "      <td>Hombre</td>\n",
       "      <td>22</td>\n",
       "      <td>Superior</td>\n",
       "      <td>No</td>\n",
       "      <td></td>\n",
       "      <td>AutoCompartido</td>\n",
       "      <td>Necesidad</td>\n",
       "      <td>Si</td>\n",
       "      <td>2.0</td>\n",
       "      <td>0.0</td>\n",
       "      <td>0.0</td>\n",
       "      <td>0.0</td>\n",
       "      <td>374.312337</td>\n",
       "    </tr>\n",
       "    <tr>\n",
       "      <th>3</th>\n",
       "      <td>Urbano</td>\n",
       "      <td>10150</td>\n",
       "      <td>Hombre</td>\n",
       "      <td>13</td>\n",
       "      <td>Basica</td>\n",
       "      <td>No</td>\n",
       "      <td></td>\n",
       "      <td>AutoCompartido</td>\n",
       "      <td>Necesidad</td>\n",
       "      <td>No</td>\n",
       "      <td>NaN</td>\n",
       "      <td>NaN</td>\n",
       "      <td>NaN</td>\n",
       "      <td>NaN</td>\n",
       "      <td>429.587283</td>\n",
       "    </tr>\n",
       "    <tr>\n",
       "      <th>4</th>\n",
       "      <td>Urbano</td>\n",
       "      <td>10150</td>\n",
       "      <td>Hombre</td>\n",
       "      <td>41</td>\n",
       "      <td>Superior</td>\n",
       "      <td>No</td>\n",
       "      <td></td>\n",
       "      <td>AutoCompartido</td>\n",
       "      <td>Necesidad</td>\n",
       "      <td>Si</td>\n",
       "      <td>1.0</td>\n",
       "      <td>0.0</td>\n",
       "      <td>0.0</td>\n",
       "      <td>0.0</td>\n",
       "      <td>374.312337</td>\n",
       "    </tr>\n",
       "    <tr>\n",
       "      <th>5</th>\n",
       "      <td>Urbano</td>\n",
       "      <td>10150</td>\n",
       "      <td>Mujer</td>\n",
       "      <td>41</td>\n",
       "      <td>Superior</td>\n",
       "      <td>No</td>\n",
       "      <td></td>\n",
       "      <td>AutoCompartido</td>\n",
       "      <td>Necesidad</td>\n",
       "      <td>Si</td>\n",
       "      <td>1.0</td>\n",
       "      <td>0.0</td>\n",
       "      <td>0.0</td>\n",
       "      <td>0.0</td>\n",
       "      <td>368.820295</td>\n",
       "    </tr>\n",
       "    <tr>\n",
       "      <th>6</th>\n",
       "      <td>Urbano</td>\n",
       "      <td>10150</td>\n",
       "      <td>Mujer</td>\n",
       "      <td>16</td>\n",
       "      <td>Bachillerato</td>\n",
       "      <td>Si</td>\n",
       "      <td>UnoMes</td>\n",
       "      <td>AutoCompartido</td>\n",
       "      <td>Necesidad</td>\n",
       "      <td>Si</td>\n",
       "      <td>1.0</td>\n",
       "      <td>0.0</td>\n",
       "      <td>0.0</td>\n",
       "      <td>0.0</td>\n",
       "      <td>368.820295</td>\n",
       "    </tr>\n",
       "    <tr>\n",
       "      <th>9</th>\n",
       "      <td>Urbano</td>\n",
       "      <td>10150</td>\n",
       "      <td>Hombre</td>\n",
       "      <td>40</td>\n",
       "      <td>Secundaria</td>\n",
       "      <td>No</td>\n",
       "      <td></td>\n",
       "      <td>AutoSolo</td>\n",
       "      <td>Necesidad</td>\n",
       "      <td>No</td>\n",
       "      <td>NaN</td>\n",
       "      <td>NaN</td>\n",
       "      <td>NaN</td>\n",
       "      <td>NaN</td>\n",
       "      <td>374.312337</td>\n",
       "    </tr>\n",
       "    <tr>\n",
       "      <th>10</th>\n",
       "      <td>Urbano</td>\n",
       "      <td>10150</td>\n",
       "      <td>Mujer</td>\n",
       "      <td>35</td>\n",
       "      <td>Superior</td>\n",
       "      <td>No</td>\n",
       "      <td></td>\n",
       "      <td>AutoCompartido</td>\n",
       "      <td>Necesidad</td>\n",
       "      <td>No</td>\n",
       "      <td>NaN</td>\n",
       "      <td>NaN</td>\n",
       "      <td>NaN</td>\n",
       "      <td>NaN</td>\n",
       "      <td>368.820295</td>\n",
       "    </tr>\n",
       "    <tr>\n",
       "      <th>11</th>\n",
       "      <td>Urbano</td>\n",
       "      <td>10150</td>\n",
       "      <td>Hombre</td>\n",
       "      <td>15</td>\n",
       "      <td>Basica</td>\n",
       "      <td>No</td>\n",
       "      <td></td>\n",
       "      <td>AutoCompartido</td>\n",
       "      <td>Necesidad</td>\n",
       "      <td>Si</td>\n",
       "      <td>5.0</td>\n",
       "      <td>0.0</td>\n",
       "      <td>2.0</td>\n",
       "      <td>0.0</td>\n",
       "      <td>374.312337</td>\n",
       "    </tr>\n",
       "  </tbody>\n",
       "</table>\n",
       "</div>"
      ],
      "text/plain": [
       "      area ciudad    s1p2  s1p3        s1p12a s6p1a   s6p1b            s6p2  \\\n",
       "0   Urbano  10150  Hombre    74     Postgrado    No                AutoSolo   \n",
       "1   Urbano  10150   Mujer    46      Superior    No          AutoCompartido   \n",
       "2   Urbano  10150  Hombre    22      Superior    No          AutoCompartido   \n",
       "3   Urbano  10150  Hombre    13        Basica    No          AutoCompartido   \n",
       "4   Urbano  10150  Hombre    41      Superior    No          AutoCompartido   \n",
       "5   Urbano  10150   Mujer    41      Superior    No          AutoCompartido   \n",
       "6   Urbano  10150   Mujer    16  Bachillerato    Si  UnoMes  AutoCompartido   \n",
       "9   Urbano  10150  Hombre    40    Secundaria    No                AutoSolo   \n",
       "10  Urbano  10150   Mujer    35      Superior    No          AutoCompartido   \n",
       "11  Urbano  10150  Hombre    15        Basica    No          AutoCompartido   \n",
       "\n",
       "         s6p3 s6p4  s6p4a  s6p4b  s6p4c  s6p4d        fexp  \n",
       "0   Necesidad   Si    5.0    0.0    2.0    0.0  374.312337  \n",
       "1   Necesidad   Si    2.0    0.0    0.0    0.0  368.820295  \n",
       "2   Necesidad   Si    2.0    0.0    0.0    0.0  374.312337  \n",
       "3   Necesidad   No    NaN    NaN    NaN    NaN  429.587283  \n",
       "4   Necesidad   Si    1.0    0.0    0.0    0.0  374.312337  \n",
       "5   Necesidad   Si    1.0    0.0    0.0    0.0  368.820295  \n",
       "6   Necesidad   Si    1.0    0.0    0.0    0.0  368.820295  \n",
       "9   Necesidad   No    NaN    NaN    NaN    NaN  374.312337  \n",
       "10  Necesidad   No    NaN    NaN    NaN    NaN  368.820295  \n",
       "11  Necesidad   Si    5.0    0.0    2.0    0.0  374.312337  "
      ]
     },
     "execution_count": 488,
     "metadata": {},
     "output_type": "execute_result"
    }
   ],
   "source": [
    "#Viendo las primera 10 filas\n",
    "mayores_act.head(10)"
   ]
  },
  {
   "cell_type": "code",
   "execution_count": 489,
   "metadata": {},
   "outputs": [
    {
     "data": {
      "text/html": [
       "<div>\n",
       "<style scoped>\n",
       "    .dataframe tbody tr th:only-of-type {\n",
       "        vertical-align: middle;\n",
       "    }\n",
       "\n",
       "    .dataframe tbody tr th {\n",
       "        vertical-align: top;\n",
       "    }\n",
       "\n",
       "    .dataframe thead th {\n",
       "        text-align: right;\n",
       "    }\n",
       "</style>\n",
       "<table border=\"1\" class=\"dataframe\">\n",
       "  <thead>\n",
       "    <tr style=\"text-align: right;\">\n",
       "      <th></th>\n",
       "      <th>area</th>\n",
       "      <th>ciudad</th>\n",
       "      <th>s1p2</th>\n",
       "      <th>s1p3</th>\n",
       "      <th>s1p12a</th>\n",
       "      <th>s6p1a</th>\n",
       "      <th>s6p1b</th>\n",
       "      <th>s6p2</th>\n",
       "      <th>s6p3</th>\n",
       "      <th>s6p4</th>\n",
       "      <th>s6p4a</th>\n",
       "      <th>s6p4b</th>\n",
       "      <th>s6p4c</th>\n",
       "      <th>s6p4d</th>\n",
       "      <th>fexp</th>\n",
       "      <th>tiempo</th>\n",
       "    </tr>\n",
       "  </thead>\n",
       "  <tbody>\n",
       "    <tr>\n",
       "      <th>0</th>\n",
       "      <td>Urbano</td>\n",
       "      <td>10150</td>\n",
       "      <td>Hombre</td>\n",
       "      <td>74</td>\n",
       "      <td>Postgrado</td>\n",
       "      <td>No</td>\n",
       "      <td></td>\n",
       "      <td>AutoSolo</td>\n",
       "      <td>Necesidad</td>\n",
       "      <td>Si</td>\n",
       "      <td>5.0</td>\n",
       "      <td>0.0</td>\n",
       "      <td>2.0</td>\n",
       "      <td>0.0</td>\n",
       "      <td>374.312337</td>\n",
       "      <td>7.0</td>\n",
       "    </tr>\n",
       "    <tr>\n",
       "      <th>1</th>\n",
       "      <td>Urbano</td>\n",
       "      <td>10150</td>\n",
       "      <td>Mujer</td>\n",
       "      <td>46</td>\n",
       "      <td>Superior</td>\n",
       "      <td>No</td>\n",
       "      <td></td>\n",
       "      <td>AutoCompartido</td>\n",
       "      <td>Necesidad</td>\n",
       "      <td>Si</td>\n",
       "      <td>2.0</td>\n",
       "      <td>0.0</td>\n",
       "      <td>0.0</td>\n",
       "      <td>0.0</td>\n",
       "      <td>368.820295</td>\n",
       "      <td>2.0</td>\n",
       "    </tr>\n",
       "    <tr>\n",
       "      <th>2</th>\n",
       "      <td>Urbano</td>\n",
       "      <td>10150</td>\n",
       "      <td>Hombre</td>\n",
       "      <td>22</td>\n",
       "      <td>Superior</td>\n",
       "      <td>No</td>\n",
       "      <td></td>\n",
       "      <td>AutoCompartido</td>\n",
       "      <td>Necesidad</td>\n",
       "      <td>Si</td>\n",
       "      <td>2.0</td>\n",
       "      <td>0.0</td>\n",
       "      <td>0.0</td>\n",
       "      <td>0.0</td>\n",
       "      <td>374.312337</td>\n",
       "      <td>2.0</td>\n",
       "    </tr>\n",
       "    <tr>\n",
       "      <th>3</th>\n",
       "      <td>Urbano</td>\n",
       "      <td>10150</td>\n",
       "      <td>Hombre</td>\n",
       "      <td>13</td>\n",
       "      <td>Basica</td>\n",
       "      <td>No</td>\n",
       "      <td></td>\n",
       "      <td>AutoCompartido</td>\n",
       "      <td>Necesidad</td>\n",
       "      <td>No</td>\n",
       "      <td>NaN</td>\n",
       "      <td>NaN</td>\n",
       "      <td>NaN</td>\n",
       "      <td>NaN</td>\n",
       "      <td>429.587283</td>\n",
       "      <td>NaN</td>\n",
       "    </tr>\n",
       "    <tr>\n",
       "      <th>4</th>\n",
       "      <td>Urbano</td>\n",
       "      <td>10150</td>\n",
       "      <td>Hombre</td>\n",
       "      <td>41</td>\n",
       "      <td>Superior</td>\n",
       "      <td>No</td>\n",
       "      <td></td>\n",
       "      <td>AutoCompartido</td>\n",
       "      <td>Necesidad</td>\n",
       "      <td>Si</td>\n",
       "      <td>1.0</td>\n",
       "      <td>0.0</td>\n",
       "      <td>0.0</td>\n",
       "      <td>0.0</td>\n",
       "      <td>374.312337</td>\n",
       "      <td>1.0</td>\n",
       "    </tr>\n",
       "    <tr>\n",
       "      <th>...</th>\n",
       "      <td>...</td>\n",
       "      <td>...</td>\n",
       "      <td>...</td>\n",
       "      <td>...</td>\n",
       "      <td>...</td>\n",
       "      <td>...</td>\n",
       "      <td>...</td>\n",
       "      <td>...</td>\n",
       "      <td>...</td>\n",
       "      <td>...</td>\n",
       "      <td>...</td>\n",
       "      <td>...</td>\n",
       "      <td>...</td>\n",
       "      <td>...</td>\n",
       "      <td>...</td>\n",
       "      <td>...</td>\n",
       "    </tr>\n",
       "    <tr>\n",
       "      <th>40809</th>\n",
       "      <td>Rural</td>\n",
       "      <td>900451</td>\n",
       "      <td>Mujer</td>\n",
       "      <td>17</td>\n",
       "      <td>Bachillerato</td>\n",
       "      <td>No</td>\n",
       "      <td></td>\n",
       "      <td>TPublico</td>\n",
       "      <td>Necesidad</td>\n",
       "      <td>No</td>\n",
       "      <td>NaN</td>\n",
       "      <td>NaN</td>\n",
       "      <td>NaN</td>\n",
       "      <td>NaN</td>\n",
       "      <td>72.702728</td>\n",
       "      <td>NaN</td>\n",
       "    </tr>\n",
       "    <tr>\n",
       "      <th>40810</th>\n",
       "      <td>Rural</td>\n",
       "      <td>900451</td>\n",
       "      <td>Hombre</td>\n",
       "      <td>55</td>\n",
       "      <td>Secundaria</td>\n",
       "      <td>No</td>\n",
       "      <td></td>\n",
       "      <td>AutoSolo</td>\n",
       "      <td>Comodidad</td>\n",
       "      <td>No</td>\n",
       "      <td>NaN</td>\n",
       "      <td>NaN</td>\n",
       "      <td>NaN</td>\n",
       "      <td>NaN</td>\n",
       "      <td>73.595629</td>\n",
       "      <td>NaN</td>\n",
       "    </tr>\n",
       "    <tr>\n",
       "      <th>40811</th>\n",
       "      <td>Rural</td>\n",
       "      <td>900451</td>\n",
       "      <td>Hombre</td>\n",
       "      <td>45</td>\n",
       "      <td>Secundaria</td>\n",
       "      <td>No</td>\n",
       "      <td></td>\n",
       "      <td>AutoSolo</td>\n",
       "      <td>Comodidad</td>\n",
       "      <td>No</td>\n",
       "      <td>NaN</td>\n",
       "      <td>NaN</td>\n",
       "      <td>NaN</td>\n",
       "      <td>NaN</td>\n",
       "      <td>73.595629</td>\n",
       "      <td>NaN</td>\n",
       "    </tr>\n",
       "    <tr>\n",
       "      <th>40812</th>\n",
       "      <td>Rural</td>\n",
       "      <td>900451</td>\n",
       "      <td>Hombre</td>\n",
       "      <td>40</td>\n",
       "      <td>Primaria</td>\n",
       "      <td>No</td>\n",
       "      <td></td>\n",
       "      <td>AutoCompartido</td>\n",
       "      <td>Necesidad</td>\n",
       "      <td>No</td>\n",
       "      <td>NaN</td>\n",
       "      <td>NaN</td>\n",
       "      <td>NaN</td>\n",
       "      <td>NaN</td>\n",
       "      <td>73.595629</td>\n",
       "      <td>NaN</td>\n",
       "    </tr>\n",
       "    <tr>\n",
       "      <th>40813</th>\n",
       "      <td>Rural</td>\n",
       "      <td>900451</td>\n",
       "      <td>Mujer</td>\n",
       "      <td>59</td>\n",
       "      <td>Secundaria</td>\n",
       "      <td>No</td>\n",
       "      <td></td>\n",
       "      <td>AutoCompartido</td>\n",
       "      <td>Necesidad</td>\n",
       "      <td>No</td>\n",
       "      <td>NaN</td>\n",
       "      <td>NaN</td>\n",
       "      <td>NaN</td>\n",
       "      <td>NaN</td>\n",
       "      <td>72.702728</td>\n",
       "      <td>NaN</td>\n",
       "    </tr>\n",
       "  </tbody>\n",
       "</table>\n",
       "<p>33236 rows × 16 columns</p>\n",
       "</div>"
      ],
      "text/plain": [
       "         area  ciudad    s1p2  s1p3        s1p12a s6p1a s6p1b            s6p2  \\\n",
       "0      Urbano   10150  Hombre    74     Postgrado    No              AutoSolo   \n",
       "1      Urbano   10150   Mujer    46      Superior    No        AutoCompartido   \n",
       "2      Urbano   10150  Hombre    22      Superior    No        AutoCompartido   \n",
       "3      Urbano   10150  Hombre    13        Basica    No        AutoCompartido   \n",
       "4      Urbano   10150  Hombre    41      Superior    No        AutoCompartido   \n",
       "...       ...     ...     ...   ...           ...   ...   ...             ...   \n",
       "40809   Rural  900451   Mujer    17  Bachillerato    No              TPublico   \n",
       "40810   Rural  900451  Hombre    55    Secundaria    No              AutoSolo   \n",
       "40811   Rural  900451  Hombre    45    Secundaria    No              AutoSolo   \n",
       "40812   Rural  900451  Hombre    40      Primaria    No        AutoCompartido   \n",
       "40813   Rural  900451   Mujer    59    Secundaria    No        AutoCompartido   \n",
       "\n",
       "            s6p3 s6p4  s6p4a  s6p4b  s6p4c  s6p4d        fexp  tiempo  \n",
       "0      Necesidad   Si    5.0    0.0    2.0    0.0  374.312337     7.0  \n",
       "1      Necesidad   Si    2.0    0.0    0.0    0.0  368.820295     2.0  \n",
       "2      Necesidad   Si    2.0    0.0    0.0    0.0  374.312337     2.0  \n",
       "3      Necesidad   No    NaN    NaN    NaN    NaN  429.587283     NaN  \n",
       "4      Necesidad   Si    1.0    0.0    0.0    0.0  374.312337     1.0  \n",
       "...          ...  ...    ...    ...    ...    ...         ...     ...  \n",
       "40809  Necesidad   No    NaN    NaN    NaN    NaN   72.702728     NaN  \n",
       "40810  Comodidad   No    NaN    NaN    NaN    NaN   73.595629     NaN  \n",
       "40811  Comodidad   No    NaN    NaN    NaN    NaN   73.595629     NaN  \n",
       "40812  Necesidad   No    NaN    NaN    NaN    NaN   73.595629     NaN  \n",
       "40813  Necesidad   No    NaN    NaN    NaN    NaN   72.702728     NaN  \n",
       "\n",
       "[33236 rows x 16 columns]"
      ]
     },
     "execution_count": 489,
     "metadata": {},
     "output_type": "execute_result"
    }
   ],
   "source": [
    "#Calculo del tiempo en horas que las personas mayores de 12 años realizan actividad física a la semana\n",
    "\n",
    "mayores_act['s6p4b'] = mayores_act['s6p4b']/60\n",
    "mayores_act['s6p4d'] = mayores_act['s6p4d']/60\n",
    "mayores_act= mayores_act.assign(tiempo=mayores_act.s6p4a+mayores_act.s6p4b+mayores_act.s6p4c+mayores_act.s6p4d)\n",
    "mayores_act"
   ]
  },
  {
   "cell_type": "markdown",
   "metadata": {},
   "source": [
    "## Análisis Descriptivo y Gráficos"
   ]
  },
  {
   "cell_type": "markdown",
   "metadata": {},
   "source": [
    "### - Variables cuantitativas"
   ]
  },
  {
   "cell_type": "markdown",
   "metadata": {},
   "source": [
    "#### Estadísticos de la variable cuantitativa 'tiempo' Tiempo que las personas realizan actividad fisica a la semana."
   ]
  },
  {
   "cell_type": "code",
   "execution_count": 490,
   "metadata": {},
   "outputs": [
    {
     "data": {
      "text/plain": [
       "count    9237.000000\n",
       "mean        3.599803\n",
       "std         3.105628\n",
       "min         0.016667\n",
       "25%         2.000000\n",
       "50%         3.000000\n",
       "75%         5.000000\n",
       "max        50.000000\n",
       "Name: tiempo, dtype: float64"
      ]
     },
     "execution_count": 490,
     "metadata": {},
     "output_type": "execute_result"
    }
   ],
   "source": [
    "mayores_act['tiempo'].describe()"
   ]
  },
  {
   "cell_type": "code",
   "execution_count": 491,
   "metadata": {},
   "outputs": [
    {
     "name": "stdout",
     "output_type": "stream",
     "text": [
      "La media de la variable tiempo es: 3.599803327198585\n"
     ]
    }
   ],
   "source": [
    "sin_na = ~np.isnan(mayores_act['tiempo'])\n",
    "med1= np.mean(tiempo[sin_na])\n",
    "print(\"La media de la variable tiempo es:\", med1)"
   ]
  },
  {
   "cell_type": "code",
   "execution_count": 492,
   "metadata": {},
   "outputs": [
    {
     "name": "stdout",
     "output_type": "stream",
     "text": [
      "La desviación estándar de la variable tiempo es: 3.1054600051142573\n"
     ]
    }
   ],
   "source": [
    "std1= np.std(tiempo[sin_na])\n",
    "print(\"La desviación estándar de la variable tiempo es:\", std1)\n"
   ]
  },
  {
   "cell_type": "code",
   "execution_count": 493,
   "metadata": {},
   "outputs": [
    {
     "name": "stdout",
     "output_type": "stream",
     "text": [
      "La varianza de la variable tiempo es: 9.643881843364243\n"
     ]
    }
   ],
   "source": [
    "var1= np.var(tiempo[sin_na])\n",
    "print(\"La varianza de la variable tiempo es:\", var1)"
   ]
  },
  {
   "cell_type": "code",
   "execution_count": 494,
   "metadata": {},
   "outputs": [
    {
     "name": "stdout",
     "output_type": "stream",
     "text": [
      "La mediana de la variable tiempo es: 3.0\n"
     ]
    }
   ],
   "source": [
    "median1= np.median(tiempo[sin_na])\n",
    "print(\"La mediana de la variable tiempo es:\", median1)"
   ]
  },
  {
   "cell_type": "code",
   "execution_count": 495,
   "metadata": {},
   "outputs": [
    {
     "name": "stdout",
     "output_type": "stream",
     "text": [
      "La moda de la variable tiempo es: [2.] y la frecuencia de repetición es: [2381]\n"
     ]
    }
   ],
   "source": [
    "moda1=stats.mode(tiempo[sin_na]) \n",
    "print(\"La moda de la variable tiempo es:\", moda1[0],\"y la frecuencia de repetición es:\", moda1[1])"
   ]
  },
  {
   "cell_type": "code",
   "execution_count": 496,
   "metadata": {},
   "outputs": [
    {
     "name": "stdout",
     "output_type": "stream",
     "text": [
      "La media ponderada es: 3.651808362745754\n"
     ]
    }
   ],
   "source": [
    "#media ponderada(calculo con el factor de expansion)\n",
    "tiempo = np.array(mayores_act['tiempo'])\n",
    "fac_exp = np.array(mayores_act['fexp'])\n",
    "mpt = np.average(tiempo[sin_na], weights=fac_exp[sin_na])\n",
    "print(\"La media ponderada es:\", mpt)"
   ]
  },
  {
   "cell_type": "markdown",
   "metadata": {},
   "source": [
    "**Conclusión**: El tiempo promedio que las personas realizan actividad física a la semana es de **3,65 horas**. \n",
    "El tiempo medio muestral **3,5998** horas es aproximadamente igual al tiempo medio poblacional **3,651** calculado con factores de expansión."
   ]
  },
  {
   "cell_type": "markdown",
   "metadata": {},
   "source": [
    "#### Gráficos\n",
    "\n",
    "#### * HISTOGRAMA (tiempo de actividad física semanal)\n"
   ]
  },
  {
   "cell_type": "code",
   "execution_count": 497,
   "metadata": {},
   "outputs": [],
   "source": [
    "plt.rcParams[\"figure.figsize\"]=(10,5)\n",
    "plt.rcParams[\"grid.color\"]='k'\n",
    "plt.rcParams['grid.linestyle']= ':'\n",
    "plt.rcParams['grid.linewidth'] = 0.5"
   ]
  },
  {
   "cell_type": "code",
   "execution_count": 498,
   "metadata": {},
   "outputs": [
    {
     "data": {
      "text/plain": [
       "Text(0, 0.5, 'Frecuencia absoluta')"
      ]
     },
     "execution_count": 498,
     "metadata": {},
     "output_type": "execute_result"
    },
    {
     "data": {
      "image/png": "[encoded data removed]",
      "text/plain": [
       "<Figure size 720x360 with 1 Axes>"
      ]
     },
     "metadata": {
      "needs_background": "light"
     },
     "output_type": "display_data"
    }
   ],
   "source": [
    "plt.hist(tiempo[sin_na],50, color = \"pink\", ec = \"black\")\n",
    "plt.grid()\n",
    "plt.legend([\"Histograma del tiempo de actividad física\"])\n",
    "plt.xlabel(\"Tiempo de actividad física\")\n",
    "plt.ylabel(\"Frecuencia absoluta\")"
   ]
  },
  {
   "cell_type": "code",
   "execution_count": 499,
   "metadata": {},
   "outputs": [
    {
     "data": {
      "text/plain": [
       "3.0842026562859153"
      ]
     },
     "execution_count": 499,
     "metadata": {},
     "output_type": "execute_result"
    }
   ],
   "source": [
    "stats.skew(tiempo[sin_na])"
   ]
  },
  {
   "cell_type": "markdown",
   "metadata": {},
   "source": [
    "**Conclusión**: A traves de la gráfica de distribución de probabilidad podemos ver que la distribución es asimétrica con sesgo positivo, esto nos indica que los tiempos son más dispersos a la derecha de la media; y que la mediana y la moda tienen valores menores que la media.\n",
    "El cálculo de la correlación mediante \"stats.skwe\"también nos confirma que la distribución es asimetrica con sesgo a la derecha.\n",
    "También podemos visualizar que la mayor cantidad de datos se encuentran en el rango de 0 a 10 horas"
   ]
  },
  {
   "cell_type": "code",
   "execution_count": 500,
   "metadata": {},
   "outputs": [
    {
     "data": {
      "text/plain": [
       "Text(0, 0.5, 'Frecuencia relativa')"
      ]
     },
     "execution_count": 500,
     "metadata": {},
     "output_type": "execute_result"
    },
    {
     "data": {
      "image/png": "[encoded data removed]",
      "text/plain": [
       "<Figure size 720x360 with 1 Axes>"
      ]
     },
     "metadata": {
      "needs_background": "light"
     },
     "output_type": "display_data"
    }
   ],
   "source": [
    "sns.distplot(tiempo[sin_na], bins =50,  color = \"green\")\n",
    "plt.legend([\"Histograma del tiempo de actividad física\"])\n",
    "plt.xlabel(\"Tiempo de actividad física\")\n",
    "plt.ylabel(\"Frecuencia relativa\")"
   ]
  },
  {
   "cell_type": "markdown",
   "metadata": {},
   "source": [
    "**Conclusión**: En el rango de 2 a 3 horas se concentra aproximadamente el 30% de la información"
   ]
  },
  {
   "cell_type": "markdown",
   "metadata": {},
   "source": [
    "#### BOXPLOT tiempo de actividad física"
   ]
  },
  {
   "cell_type": "code",
   "execution_count": 501,
   "metadata": {},
   "outputs": [
    {
     "data": {
      "text/plain": [
       "Text(0, 0.5, 'Tiempo de actividad física')"
      ]
     },
     "execution_count": 501,
     "metadata": {},
     "output_type": "execute_result"
    },
    {
     "data": {
      "image/png": "[encoded data removed]",
      "text/plain": [
       "<Figure size 720x360 with 1 Axes>"
      ]
     },
     "metadata": {
      "needs_background": "light"
     },
     "output_type": "display_data"
    }
   ],
   "source": [
    "plt.boxplot(tiempo[sin_na])\n",
    "plt.grid()\n",
    "plt.legend([\"Boxplot del tiempo de actividad física\"])\n",
    "plt.ylabel(\"Tiempo de actividad física\")\n"
   ]
  },
  {
   "cell_type": "markdown",
   "metadata": {},
   "source": [
    "**Conclusión:** EL diagrama de caja bigote nos muestra el valor de la mediana aproximadamente 3 y del rango intercuartilico (50% de los datos) entre 2 y 5, los datos de valor 10 o más representan datos atípicos. Además se puede observar que se trata de una distribución asimétrica puesto la mediana no esta en el centro de la caja"
   ]
  },
  {
   "cell_type": "markdown",
   "metadata": {},
   "source": [
    "#### DIAGRAMA DE DISPERSION edad vs tiempo de actividad fisica"
   ]
  },
  {
   "cell_type": "code",
   "execution_count": 502,
   "metadata": {},
   "outputs": [
    {
     "data": {
      "text/plain": [
       "Text(0, 0.5, 'Tiempo de actividad física')"
      ]
     },
     "execution_count": 502,
     "metadata": {},
     "output_type": "execute_result"
    },
    {
     "data": {
      "image/png": "[encoded data removed]",
      "text/plain": [
       "<Figure size 720x360 with 1 Axes>"
      ]
     },
     "metadata": {
      "needs_background": "light"
     },
     "output_type": "display_data"
    }
   ],
   "source": [
    "mayores_act.plot(kind='scatter', x= 's1p3', y= 'tiempo')\n",
    "plt.legend([\"Diagrama de dispersión Edad vs Tiempo de actividad física\"])\n",
    "plt.xlabel(\"Edad\")\n",
    "plt.ylabel(\"Tiempo de actividad física\")"
   ]
  },
  {
   "cell_type": "markdown",
   "metadata": {},
   "source": [
    "**Conclusión**: El gráfico nos indica que el tiempo de actividad física es levemente menor cuando la edad crece, la tendecia a realizar menos tiempo actividad física cuando se tiene mayor edad es casi imperceptible, solo se puede notar la diferencia entre los rangos de edad de 0 a 20 años y cuando se llega a edades de 70 años o más. Además el tiempo de actividad física se concentra en el rango de 0 a 10 horas. También se puede observar algunos valores atípicos como la actividad física de 50 horas por semana."
   ]
  },
  {
   "cell_type": "markdown",
   "metadata": {},
   "source": [
    "#### DIAGRAMA DE DISPERSION edad (s1p3) vs tiempo de actividad fisica vs sexo(s1p2)"
   ]
  },
  {
   "cell_type": "code",
   "execution_count": 503,
   "metadata": {},
   "outputs": [
    {
     "data": {
      "text/plain": [
       "Text(0, 0.5, 'Tiempo de actividad física')"
      ]
     },
     "execution_count": 503,
     "metadata": {},
     "output_type": "execute_result"
    },
    {
     "data": {
      "image/png": "[encoded data removed]",
      "text/plain": [
       "<Figure size 720x360 with 1 Axes>"
      ]
     },
     "metadata": {
      "needs_background": "light"
     },
     "output_type": "display_data"
    }
   ],
   "source": [
    "sns.scatterplot(x = mayores_act['s1p3'], y =mayores_act['tiempo'], hue = mayores_act['s1p2'])\n",
    "plt.xlabel(\"Edad\")\n",
    "plt.ylabel(\"Tiempo de actividad física\")"
   ]
  },
  {
   "cell_type": "markdown",
   "metadata": {},
   "source": [
    "**Conclusión**: Los datos de tiempo de actividad física son uniformes respecto al sexo de la persona. De acuerdo al gráfico podriamos decir que no existe diferencia entre el tiempo de actividad física que realizan los hombre y las mujeres."
   ]
  },
  {
   "cell_type": "markdown",
   "metadata": {},
   "source": [
    "#### CÁLCULO DE CORRELACIÓN ENTRE LA EDAD Y EL TIEMPO DE ACTIVIDAD FÍSICA"
   ]
  },
  {
   "cell_type": "code",
   "execution_count": 504,
   "metadata": {},
   "outputs": [
    {
     "data": {
      "text/plain": [
       "array([[1.        , 0.04345939],\n",
       "       [0.04345939, 1.        ]])"
      ]
     },
     "execution_count": 504,
     "metadata": {},
     "output_type": "execute_result"
    }
   ],
   "source": [
    "s1p3 = np.array(mayores_act['s1p3'])\n",
    "np.corrcoef(tiempo[sin_na], s1p3[sin_na])"
   ]
  },
  {
   "cell_type": "markdown",
   "metadata": {},
   "source": [
    "**Conclusión**: El factor de correlación de 0,04 nos indica que no existe relación entre las variables edad y tiempo de actividad física semanal."
   ]
  },
  {
   "cell_type": "markdown",
   "metadata": {},
   "source": [
    "### - Variables categóricas"
   ]
  },
  {
   "cell_type": "markdown",
   "metadata": {},
   "source": [
    "#### 1. Uso de bicicleta"
   ]
  },
  {
   "cell_type": "code",
   "execution_count": 505,
   "metadata": {},
   "outputs": [
    {
     "data": {
      "text/html": [
       "<div>\n",
       "<style scoped>\n",
       "    .dataframe tbody tr th:only-of-type {\n",
       "        vertical-align: middle;\n",
       "    }\n",
       "\n",
       "    .dataframe tbody tr th {\n",
       "        vertical-align: top;\n",
       "    }\n",
       "\n",
       "    .dataframe thead th {\n",
       "        text-align: right;\n",
       "    }\n",
       "</style>\n",
       "<table border=\"1\" class=\"dataframe\">\n",
       "  <thead>\n",
       "    <tr style=\"text-align: right;\">\n",
       "      <th></th>\n",
       "      <th>f muestral</th>\n",
       "      <th>f poblacional</th>\n",
       "    </tr>\n",
       "    <tr>\n",
       "      <th>s6p1a</th>\n",
       "      <th></th>\n",
       "      <th></th>\n",
       "    </tr>\n",
       "  </thead>\n",
       "  <tbody>\n",
       "    <tr>\n",
       "      <th>No</th>\n",
       "      <td>29126</td>\n",
       "      <td>1.185755e+07</td>\n",
       "    </tr>\n",
       "    <tr>\n",
       "      <th>Si</th>\n",
       "      <td>4110</td>\n",
       "      <td>1.748516e+06</td>\n",
       "    </tr>\n",
       "  </tbody>\n",
       "</table>\n",
       "</div>"
      ],
      "text/plain": [
       "       f muestral  f poblacional\n",
       "s6p1a                           \n",
       "No          29126   1.185755e+07\n",
       "Si           4110   1.748516e+06"
      ]
     },
     "execution_count": 505,
     "metadata": {},
     "output_type": "execute_result"
    }
   ],
   "source": [
    "#Uso de bicicleta usando factor de expansión (valores absolutos muestrales y con datos expandidos)\n",
    "\n",
    "s6p1a_freq = mayores_act.groupby(by ='s6p1a').agg({\"s6p1a\": 'count',\"fexp\": 'sum'})\n",
    "s6p1a_freq =pd.DataFrame(s6p1a_freq)\n",
    "s6p1a_freq.columns = ['f muestral', 'f poblacional']\n",
    "s6p1a_freq"
   ]
  },
  {
   "cell_type": "code",
   "execution_count": 506,
   "metadata": {},
   "outputs": [
    {
     "data": {
      "text/html": [
       "<div>\n",
       "<style scoped>\n",
       "    .dataframe tbody tr th:only-of-type {\n",
       "        vertical-align: middle;\n",
       "    }\n",
       "\n",
       "    .dataframe tbody tr th {\n",
       "        vertical-align: top;\n",
       "    }\n",
       "\n",
       "    .dataframe thead th {\n",
       "        text-align: right;\n",
       "    }\n",
       "</style>\n",
       "<table border=\"1\" class=\"dataframe\">\n",
       "  <thead>\n",
       "    <tr style=\"text-align: right;\">\n",
       "      <th></th>\n",
       "      <th>% muestral</th>\n",
       "      <th>% poblacional</th>\n",
       "    </tr>\n",
       "    <tr>\n",
       "      <th>s6p1a</th>\n",
       "      <th></th>\n",
       "      <th></th>\n",
       "    </tr>\n",
       "  </thead>\n",
       "  <tbody>\n",
       "    <tr>\n",
       "      <th>No</th>\n",
       "      <td>87.633891</td>\n",
       "      <td>87.148996</td>\n",
       "    </tr>\n",
       "    <tr>\n",
       "      <th>Si</th>\n",
       "      <td>12.366109</td>\n",
       "      <td>12.851004</td>\n",
       "    </tr>\n",
       "  </tbody>\n",
       "</table>\n",
       "</div>"
      ],
      "text/plain": [
       "       % muestral  % poblacional\n",
       "s6p1a                           \n",
       "No      87.633891      87.148996\n",
       "Si      12.366109      12.851004"
      ]
     },
     "execution_count": 506,
     "metadata": {},
     "output_type": "execute_result"
    }
   ],
   "source": [
    "#Uso de bicicleta usando factor de expansión (porcentajes muestrales y con datos expandidos)\n",
    "s6p1a_freq['f muestral']= s6p1a_freq['f muestral']*100/s6p1a_freq['f muestral'].sum()\n",
    "s6p1a_freq['f poblacional']= s6p1a_freq['f poblacional']*100/s6p1a_freq['f poblacional'].sum()\n",
    "s6p1a_freq_p=pd.DataFrame(s6p1a_freq)\n",
    "s6p1a_freq_p.columns = ['% muestral', '% poblacional']\n",
    "s6p1a_freq_p"
   ]
  },
  {
   "cell_type": "markdown",
   "metadata": {},
   "source": [
    "#### Gráfico de tarta"
   ]
  },
  {
   "cell_type": "code",
   "execution_count": 507,
   "metadata": {},
   "outputs": [
    {
     "data": {
      "image/png": "[encoded data removed]",
      "text/plain": [
       "<Figure size 432x432 with 1 Axes>"
      ]
     },
     "metadata": {},
     "output_type": "display_data"
    }
   ],
   "source": [
    "plot = s6p1a_freq_p['% poblacional'].plot(kind='pie', autopct='%.2f', figsize=(6, 6), title='Uso de bicicleta')"
   ]
  },
  {
   "cell_type": "markdown",
   "metadata": {},
   "source": [
    "- **Conclusión**: Un 12,85% de personas mayores de 12 años usan bicicleta según la encuesta. Se debería promover campañas e implementar infraestructura adecuada para incrementar el uso de bicicleta enfocado en la conciencia ambiental y para mejorar la salud de la ciudadania."
   ]
  },
  {
   "cell_type": "markdown",
   "metadata": {},
   "source": [
    "#### Uso de bicicleta segun sexo"
   ]
  },
  {
   "cell_type": "code",
   "execution_count": 539,
   "metadata": {},
   "outputs": [
    {
     "data": {
      "text/html": [
       "<div>\n",
       "<style scoped>\n",
       "    .dataframe tbody tr th:only-of-type {\n",
       "        vertical-align: middle;\n",
       "    }\n",
       "\n",
       "    .dataframe tbody tr th {\n",
       "        vertical-align: top;\n",
       "    }\n",
       "\n",
       "    .dataframe thead th {\n",
       "        text-align: right;\n",
       "    }\n",
       "</style>\n",
       "<table border=\"1\" class=\"dataframe\">\n",
       "  <thead>\n",
       "    <tr style=\"text-align: right;\">\n",
       "      <th></th>\n",
       "      <th></th>\n",
       "      <th>f muestral</th>\n",
       "      <th>f poblacional</th>\n",
       "    </tr>\n",
       "    <tr>\n",
       "      <th>s6p1a</th>\n",
       "      <th>s1p2</th>\n",
       "      <th></th>\n",
       "      <th></th>\n",
       "    </tr>\n",
       "  </thead>\n",
       "  <tbody>\n",
       "    <tr>\n",
       "      <th rowspan=\"2\" valign=\"top\">No</th>\n",
       "      <th>Hombre</th>\n",
       "      <td>13306</td>\n",
       "      <td>5.415332e+06</td>\n",
       "    </tr>\n",
       "    <tr>\n",
       "      <th>Mujer</th>\n",
       "      <td>15820</td>\n",
       "      <td>6.442217e+06</td>\n",
       "    </tr>\n",
       "    <tr>\n",
       "      <th rowspan=\"2\" valign=\"top\">Si</th>\n",
       "      <th>Hombre</th>\n",
       "      <td>2923</td>\n",
       "      <td>1.243732e+06</td>\n",
       "    </tr>\n",
       "    <tr>\n",
       "      <th>Mujer</th>\n",
       "      <td>1187</td>\n",
       "      <td>5.047837e+05</td>\n",
       "    </tr>\n",
       "  </tbody>\n",
       "</table>\n",
       "</div>"
      ],
      "text/plain": [
       "              f muestral  f poblacional\n",
       "s6p1a s1p2                             \n",
       "No    Hombre       13306   5.415332e+06\n",
       "      Mujer        15820   6.442217e+06\n",
       "Si    Hombre        2923   1.243732e+06\n",
       "      Mujer         1187   5.047837e+05"
      ]
     },
     "execution_count": 539,
     "metadata": {},
     "output_type": "execute_result"
    }
   ],
   "source": [
    "#valores absolutos muestrales y con datos expandidos\n",
    "s6p1a_s1p2_freq = mayores_act.groupby(by =['s6p1a','s1p2']).agg({\"s6p1a\": 'count',\"fexp\": 'sum'})\n",
    "s6p1a_s1p2_freq.columns = ['f muestral', 'f poblacional']\n",
    "s6p1a_s1p2_freq\n"
   ]
  },
  {
   "cell_type": "code",
   "execution_count": 509,
   "metadata": {},
   "outputs": [
    {
     "data": {
      "text/html": [
       "<div>\n",
       "<style scoped>\n",
       "    .dataframe tbody tr th:only-of-type {\n",
       "        vertical-align: middle;\n",
       "    }\n",
       "\n",
       "    .dataframe tbody tr th {\n",
       "        vertical-align: top;\n",
       "    }\n",
       "\n",
       "    .dataframe thead th {\n",
       "        text-align: right;\n",
       "    }\n",
       "</style>\n",
       "<table border=\"1\" class=\"dataframe\">\n",
       "  <thead>\n",
       "    <tr style=\"text-align: right;\">\n",
       "      <th></th>\n",
       "      <th></th>\n",
       "      <th>% muestral</th>\n",
       "      <th>% poblacional</th>\n",
       "    </tr>\n",
       "    <tr>\n",
       "      <th>s6p1a</th>\n",
       "      <th>s1p2</th>\n",
       "      <th></th>\n",
       "      <th></th>\n",
       "    </tr>\n",
       "  </thead>\n",
       "  <tbody>\n",
       "    <tr>\n",
       "      <th rowspan=\"2\" valign=\"top\">No</th>\n",
       "      <th>Hombre</th>\n",
       "      <td>40.034902</td>\n",
       "      <td>39.800868</td>\n",
       "    </tr>\n",
       "    <tr>\n",
       "      <th>Mujer</th>\n",
       "      <td>47.598989</td>\n",
       "      <td>47.348128</td>\n",
       "    </tr>\n",
       "    <tr>\n",
       "      <th rowspan=\"2\" valign=\"top\">Si</th>\n",
       "      <th>Hombre</th>\n",
       "      <td>8.794680</td>\n",
       "      <td>9.141013</td>\n",
       "    </tr>\n",
       "    <tr>\n",
       "      <th>Mujer</th>\n",
       "      <td>3.571429</td>\n",
       "      <td>3.709990</td>\n",
       "    </tr>\n",
       "  </tbody>\n",
       "</table>\n",
       "</div>"
      ],
      "text/plain": [
       "              % muestral  % poblacional\n",
       "s6p1a s1p2                             \n",
       "No    Hombre   40.034902      39.800868\n",
       "      Mujer    47.598989      47.348128\n",
       "Si    Hombre    8.794680       9.141013\n",
       "      Mujer     3.571429       3.709990"
      ]
     },
     "execution_count": 509,
     "metadata": {},
     "output_type": "execute_result"
    }
   ],
   "source": [
    "#Uso de bicicleta segun sexo (valores porcentuales muestrales y con datos expandidos)\n",
    "s6p1a_s1p2_freq['f muestral']= s6p1a_s1p2_freq['f muestral']*100/s6p1a_s1p2_freq['f muestral'].sum()\n",
    "s6p1a_s1p2_freq['f poblacional']= s6p1a_s1p2_freq['f poblacional']*100/s6p1a_s1p2_freq['f poblacional'].sum()\n",
    "s6p1a_s1p2_freq_p=pd.DataFrame(s6p1a_s1p2_freq)\n",
    "s6p1a_s1p2_freq_p.columns = ['% muestral', '% poblacional']\n",
    "s6p1a_s1p2_freq_p"
   ]
  },
  {
   "cell_type": "markdown",
   "metadata": {},
   "source": [
    "#### Gráfico de barras"
   ]
  },
  {
   "cell_type": "code",
   "execution_count": 510,
   "metadata": {},
   "outputs": [
    {
     "data": {
      "text/plain": [
       "Text(0, 0.5, '% Uso de bicicleta')"
      ]
     },
     "execution_count": 510,
     "metadata": {},
     "output_type": "execute_result"
    },
    {
     "data": {
      "image/png": "[encoded data removed]",
      "text/plain": [
       "<Figure size 720x360 with 1 Axes>"
      ]
     },
     "metadata": {
      "needs_background": "light"
     },
     "output_type": "display_data"
    }
   ],
   "source": [
    "plot = pd.crosstab(index=mayores_act['s1p2'], columns=mayores_act['s6p1a']).apply(lambda r: r/r.sum() *100,\n",
    "                                              axis=1).plot(kind='bar')\n",
    "plt.grid()\n",
    "plt.xlabel(\"Sexo\")\n",
    "plt.ylabel(\"% Uso de bicicleta\")"
   ]
  },
  {
   "cell_type": "markdown",
   "metadata": {},
   "source": [
    "- **Conclusión**: Del 12,85% de personas mayores de 12 años que usan bicicleta, el 9,14% son hombres y el 3,71% son mujeres. En el gráfíco también podemos notar esta diferencia."
   ]
  },
  {
   "cell_type": "markdown",
   "metadata": {},
   "source": [
    "#### Uso de bicicleta según área"
   ]
  },
  {
   "cell_type": "code",
   "execution_count": 511,
   "metadata": {},
   "outputs": [
    {
     "data": {
      "text/html": [
       "<div>\n",
       "<style scoped>\n",
       "    .dataframe tbody tr th:only-of-type {\n",
       "        vertical-align: middle;\n",
       "    }\n",
       "\n",
       "    .dataframe tbody tr th {\n",
       "        vertical-align: top;\n",
       "    }\n",
       "\n",
       "    .dataframe thead th {\n",
       "        text-align: right;\n",
       "    }\n",
       "</style>\n",
       "<table border=\"1\" class=\"dataframe\">\n",
       "  <thead>\n",
       "    <tr style=\"text-align: right;\">\n",
       "      <th></th>\n",
       "      <th></th>\n",
       "      <th>f muestral</th>\n",
       "      <th>f poblacional</th>\n",
       "    </tr>\n",
       "    <tr>\n",
       "      <th>s6p1a</th>\n",
       "      <th>area</th>\n",
       "      <th></th>\n",
       "      <th></th>\n",
       "    </tr>\n",
       "  </thead>\n",
       "  <tbody>\n",
       "    <tr>\n",
       "      <th rowspan=\"2\" valign=\"top\">No</th>\n",
       "      <th>Rural</th>\n",
       "      <td>11409</td>\n",
       "      <td>3.784915e+06</td>\n",
       "    </tr>\n",
       "    <tr>\n",
       "      <th>Urbano</th>\n",
       "      <td>17717</td>\n",
       "      <td>8.072634e+06</td>\n",
       "    </tr>\n",
       "    <tr>\n",
       "      <th rowspan=\"2\" valign=\"top\">Si</th>\n",
       "      <th>Rural</th>\n",
       "      <td>1245</td>\n",
       "      <td>4.313785e+05</td>\n",
       "    </tr>\n",
       "    <tr>\n",
       "      <th>Urbano</th>\n",
       "      <td>2865</td>\n",
       "      <td>1.317137e+06</td>\n",
       "    </tr>\n",
       "  </tbody>\n",
       "</table>\n",
       "</div>"
      ],
      "text/plain": [
       "              f muestral  f poblacional\n",
       "s6p1a area                             \n",
       "No    Rural        11409   3.784915e+06\n",
       "      Urbano       17717   8.072634e+06\n",
       "Si    Rural         1245   4.313785e+05\n",
       "      Urbano        2865   1.317137e+06"
      ]
     },
     "execution_count": 511,
     "metadata": {},
     "output_type": "execute_result"
    }
   ],
   "source": [
    "#Uso de bicicleta segun area (valores absolutos muestrales y con datos expandidos)\n",
    "s6p1a_area_freq = mayores_act.groupby(by =['s6p1a','area']).agg({\"s6p1a\": 'count',\"fexp\": 'sum'})\n",
    "s6p1a_area_freq.columns = ['f muestral', 'f poblacional']\n",
    "s6p1a_area_freq"
   ]
  },
  {
   "cell_type": "code",
   "execution_count": 512,
   "metadata": {},
   "outputs": [
    {
     "data": {
      "text/html": [
       "<div>\n",
       "<style scoped>\n",
       "    .dataframe tbody tr th:only-of-type {\n",
       "        vertical-align: middle;\n",
       "    }\n",
       "\n",
       "    .dataframe tbody tr th {\n",
       "        vertical-align: top;\n",
       "    }\n",
       "\n",
       "    .dataframe thead th {\n",
       "        text-align: right;\n",
       "    }\n",
       "</style>\n",
       "<table border=\"1\" class=\"dataframe\">\n",
       "  <thead>\n",
       "    <tr style=\"text-align: right;\">\n",
       "      <th></th>\n",
       "      <th></th>\n",
       "      <th>% muestral</th>\n",
       "      <th>% poblacional</th>\n",
       "    </tr>\n",
       "    <tr>\n",
       "      <th>s6p1a</th>\n",
       "      <th>area</th>\n",
       "      <th></th>\n",
       "      <th></th>\n",
       "    </tr>\n",
       "  </thead>\n",
       "  <tbody>\n",
       "    <tr>\n",
       "      <th rowspan=\"2\" valign=\"top\">No</th>\n",
       "      <th>Rural</th>\n",
       "      <td>34.327236</td>\n",
       "      <td>27.817849</td>\n",
       "    </tr>\n",
       "    <tr>\n",
       "      <th>Urbano</th>\n",
       "      <td>53.306655</td>\n",
       "      <td>59.331147</td>\n",
       "    </tr>\n",
       "    <tr>\n",
       "      <th rowspan=\"2\" valign=\"top\">Si</th>\n",
       "      <th>Rural</th>\n",
       "      <td>3.745938</td>\n",
       "      <td>3.170487</td>\n",
       "    </tr>\n",
       "    <tr>\n",
       "      <th>Urbano</th>\n",
       "      <td>8.620171</td>\n",
       "      <td>9.680517</td>\n",
       "    </tr>\n",
       "  </tbody>\n",
       "</table>\n",
       "</div>"
      ],
      "text/plain": [
       "              % muestral  % poblacional\n",
       "s6p1a area                             \n",
       "No    Rural    34.327236      27.817849\n",
       "      Urbano   53.306655      59.331147\n",
       "Si    Rural     3.745938       3.170487\n",
       "      Urbano    8.620171       9.680517"
      ]
     },
     "execution_count": 512,
     "metadata": {},
     "output_type": "execute_result"
    }
   ],
   "source": [
    "#Uso de bicicleta segun area (valores porcentuales muestrales y con datos expandidos)\n",
    "s6p1a_area_freq['f muestral']= s6p1a_area_freq['f muestral']*100/s6p1a_area_freq['f muestral'].sum()\n",
    "s6p1a_area_freq['f poblacional']= s6p1a_area_freq['f poblacional']*100/s6p1a_area_freq['f poblacional'].sum()\n",
    "s6p1a_area_freq_p=pd.DataFrame(s6p1a_area_freq)\n",
    "s6p1a_area_freq_p.columns = ['% muestral', '% poblacional']\n",
    "s6p1a_area_freq_p"
   ]
  },
  {
   "cell_type": "markdown",
   "metadata": {},
   "source": [
    "#### Gráfico de barras"
   ]
  },
  {
   "cell_type": "code",
   "execution_count": 513,
   "metadata": {},
   "outputs": [
    {
     "data": {
      "text/plain": [
       "Text(0, 0.5, '% Uso de bicicleta')"
      ]
     },
     "execution_count": 513,
     "metadata": {},
     "output_type": "execute_result"
    },
    {
     "data": {
      "image/png": "[encoded data removed]",
      "text/plain": [
       "<Figure size 720x360 with 1 Axes>"
      ]
     },
     "metadata": {
      "needs_background": "light"
     },
     "output_type": "display_data"
    }
   ],
   "source": [
    "plot = pd.crosstab(index=mayores_act['area'], columns=mayores_act['s6p1a']).apply(lambda r: r/r.sum() *100, \n",
    "                                                                                  axis=1).plot(kind='bar')\n",
    "\n",
    "plt.grid()\n",
    "plt.xlabel(\"Area\")\n",
    "plt.ylabel(\"% Uso de bicicleta\")"
   ]
  },
  {
   "cell_type": "markdown",
   "metadata": {},
   "source": [
    "- **Conclusión**: Del 12,85% de personas mayores de 12 años usan bicicleta 9,68% son del area urbana y 3,17% son de la zona rural. Sin embargo en la gráfica podemos observar que la diferencia porcentual entre las personas que usan bicicleta en la zona rural y urbana, no es tan amplia."
   ]
  },
  {
   "cell_type": "markdown",
   "metadata": {},
   "source": [
    "#### Frecuencia del uso de bicicleta"
   ]
  },
  {
   "cell_type": "code",
   "execution_count": 514,
   "metadata": {},
   "outputs": [
    {
     "data": {
      "text/plain": [
       "(4110, 16)"
      ]
     },
     "execution_count": 514,
     "metadata": {},
     "output_type": "execute_result"
    }
   ],
   "source": [
    "#Filtrar personas que usan bicicleta.\n",
    "\n",
    "frecuencia_bc = mayores_act[mayores_act.s6p1a == \"Si\"]\n",
    "frecuencia_bc = pd.DataFrame(frecuencia_bc)\n",
    "frecuencia_bc.shape"
   ]
  },
  {
   "cell_type": "code",
   "execution_count": 515,
   "metadata": {},
   "outputs": [
    {
     "data": {
      "text/html": [
       "<div>\n",
       "<style scoped>\n",
       "    .dataframe tbody tr th:only-of-type {\n",
       "        vertical-align: middle;\n",
       "    }\n",
       "\n",
       "    .dataframe tbody tr th {\n",
       "        vertical-align: top;\n",
       "    }\n",
       "\n",
       "    .dataframe thead th {\n",
       "        text-align: right;\n",
       "    }\n",
       "</style>\n",
       "<table border=\"1\" class=\"dataframe\">\n",
       "  <thead>\n",
       "    <tr style=\"text-align: right;\">\n",
       "      <th></th>\n",
       "      <th>f muestral</th>\n",
       "      <th>f poblacional</th>\n",
       "    </tr>\n",
       "    <tr>\n",
       "      <th>s6p1b</th>\n",
       "      <th></th>\n",
       "      <th></th>\n",
       "    </tr>\n",
       "  </thead>\n",
       "  <tbody>\n",
       "    <tr>\n",
       "      <th></th>\n",
       "      <td>0</td>\n",
       "      <td>0.000000</td>\n",
       "    </tr>\n",
       "    <tr>\n",
       "      <th>Diario</th>\n",
       "      <td>1420</td>\n",
       "      <td>598589.826411</td>\n",
       "    </tr>\n",
       "    <tr>\n",
       "      <th>UnoAnio</th>\n",
       "      <td>161</td>\n",
       "      <td>70563.777024</td>\n",
       "    </tr>\n",
       "    <tr>\n",
       "      <th>UnoMes</th>\n",
       "      <td>692</td>\n",
       "      <td>291526.520717</td>\n",
       "    </tr>\n",
       "    <tr>\n",
       "      <th>UnoSemana</th>\n",
       "      <td>1837</td>\n",
       "      <td>787835.832985</td>\n",
       "    </tr>\n",
       "  </tbody>\n",
       "</table>\n",
       "</div>"
      ],
      "text/plain": [
       "           f muestral  f poblacional\n",
       "s6p1b                               \n",
       "                    0       0.000000\n",
       "Diario           1420  598589.826411\n",
       "UnoAnio           161   70563.777024\n",
       "UnoMes            692  291526.520717\n",
       "UnoSemana        1837  787835.832985"
      ]
     },
     "execution_count": 515,
     "metadata": {},
     "output_type": "execute_result"
    }
   ],
   "source": [
    "#Frecuencia del uso de bicicleta usando factor de expansión (valores absolutos muestrales y con datos expandidos)\n",
    "\n",
    "s6p1b_freq = frecuencia_bc.groupby(by = 's6p1b').agg({\"s6p1b\": 'count',\"fexp\": 'sum'})\n",
    "s6p1b_freq =pd.DataFrame(s6p1b_freq)\n",
    "s6p1b_freq.columns = ['f muestral', 'f poblacional']\n",
    "s6p1b_freq\n"
   ]
  },
  {
   "cell_type": "code",
   "execution_count": 516,
   "metadata": {},
   "outputs": [
    {
     "data": {
      "text/html": [
       "<div>\n",
       "<style scoped>\n",
       "    .dataframe tbody tr th:only-of-type {\n",
       "        vertical-align: middle;\n",
       "    }\n",
       "\n",
       "    .dataframe tbody tr th {\n",
       "        vertical-align: top;\n",
       "    }\n",
       "\n",
       "    .dataframe thead th {\n",
       "        text-align: right;\n",
       "    }\n",
       "</style>\n",
       "<table border=\"1\" class=\"dataframe\">\n",
       "  <thead>\n",
       "    <tr style=\"text-align: right;\">\n",
       "      <th></th>\n",
       "      <th>% muestral</th>\n",
       "      <th>% poblacional</th>\n",
       "    </tr>\n",
       "    <tr>\n",
       "      <th>s6p1b</th>\n",
       "      <th></th>\n",
       "      <th></th>\n",
       "    </tr>\n",
       "  </thead>\n",
       "  <tbody>\n",
       "    <tr>\n",
       "      <th></th>\n",
       "      <td>0.000000</td>\n",
       "      <td>0.000000</td>\n",
       "    </tr>\n",
       "    <tr>\n",
       "      <th>Diario</th>\n",
       "      <td>34.549878</td>\n",
       "      <td>34.234164</td>\n",
       "    </tr>\n",
       "    <tr>\n",
       "      <th>UnoAnio</th>\n",
       "      <td>3.917275</td>\n",
       "      <td>4.035638</td>\n",
       "    </tr>\n",
       "    <tr>\n",
       "      <th>UnoMes</th>\n",
       "      <td>16.836983</td>\n",
       "      <td>16.672797</td>\n",
       "    </tr>\n",
       "    <tr>\n",
       "      <th>UnoSemana</th>\n",
       "      <td>44.695864</td>\n",
       "      <td>45.057400</td>\n",
       "    </tr>\n",
       "  </tbody>\n",
       "</table>\n",
       "</div>"
      ],
      "text/plain": [
       "           % muestral  % poblacional\n",
       "s6p1b                               \n",
       "             0.000000       0.000000\n",
       "Diario      34.549878      34.234164\n",
       "UnoAnio      3.917275       4.035638\n",
       "UnoMes      16.836983      16.672797\n",
       "UnoSemana   44.695864      45.057400"
      ]
     },
     "execution_count": 516,
     "metadata": {},
     "output_type": "execute_result"
    }
   ],
   "source": [
    "#Frecuencia del uso de bicicleta usando factor de expansión (porcentajes muestrales y con datos expandidos)\n",
    "s6p1b_freq['f muestral']= s6p1b_freq['f muestral']*100/s6p1b_freq['f muestral'].sum()\n",
    "s6p1b_freq['f poblacional']= s6p1b_freq['f poblacional']*100/s6p1b_freq['f poblacional'].sum()\n",
    "s6p1b_freq_p=pd.DataFrame(s6p1b_freq)\n",
    "s6p1b_freq_p.columns = ['% muestral', '% poblacional']\n",
    "s6p1b_freq_p"
   ]
  },
  {
   "cell_type": "markdown",
   "metadata": {},
   "source": [
    "#### Gráfico de tarta"
   ]
  },
  {
   "cell_type": "code",
   "execution_count": 517,
   "metadata": {},
   "outputs": [
    {
     "data": {
      "image/png": "[encoded data removed]",
      "text/plain": [
       "<Figure size 432x432 with 1 Axes>"
      ]
     },
     "metadata": {},
     "output_type": "display_data"
    }
   ],
   "source": [
    "plot = s6p1b_freq_p['% poblacional'].plot(kind='pie', autopct='%.2f', figsize=(6, 6), title='Frecuencia uso de bicicleta')"
   ]
  },
  {
   "cell_type": "markdown",
   "metadata": {},
   "source": [
    "**Conclusión:** El uso mas frecuente que las personas le dan a la bicicleta es una vez por semana con el **45,06%**"
   ]
  },
  {
   "cell_type": "markdown",
   "metadata": {},
   "source": [
    "#### 2. Tipo de transporte en la rutina diaria"
   ]
  },
  {
   "cell_type": "code",
   "execution_count": 518,
   "metadata": {},
   "outputs": [
    {
     "data": {
      "text/html": [
       "<div>\n",
       "<style scoped>\n",
       "    .dataframe tbody tr th:only-of-type {\n",
       "        vertical-align: middle;\n",
       "    }\n",
       "\n",
       "    .dataframe tbody tr th {\n",
       "        vertical-align: top;\n",
       "    }\n",
       "\n",
       "    .dataframe thead th {\n",
       "        text-align: right;\n",
       "    }\n",
       "</style>\n",
       "<table border=\"1\" class=\"dataframe\">\n",
       "  <thead>\n",
       "    <tr style=\"text-align: right;\">\n",
       "      <th></th>\n",
       "      <th>f muestral</th>\n",
       "      <th>f poblacional</th>\n",
       "    </tr>\n",
       "    <tr>\n",
       "      <th>s6p2</th>\n",
       "      <th></th>\n",
       "      <th></th>\n",
       "    </tr>\n",
       "  </thead>\n",
       "  <tbody>\n",
       "    <tr>\n",
       "      <th>AutoCompartido</th>\n",
       "      <td>4096</td>\n",
       "      <td>1.690715e+06</td>\n",
       "    </tr>\n",
       "    <tr>\n",
       "      <th>AutoSolo</th>\n",
       "      <td>3415</td>\n",
       "      <td>1.407550e+06</td>\n",
       "    </tr>\n",
       "    <tr>\n",
       "      <th>Bicicleta</th>\n",
       "      <td>559</td>\n",
       "      <td>2.222137e+05</td>\n",
       "    </tr>\n",
       "    <tr>\n",
       "      <th>Caminar</th>\n",
       "      <td>5392</td>\n",
       "      <td>2.003979e+06</td>\n",
       "    </tr>\n",
       "    <tr>\n",
       "      <th>No aplica</th>\n",
       "      <td>332</td>\n",
       "      <td>1.355273e+05</td>\n",
       "    </tr>\n",
       "    <tr>\n",
       "      <th>Otro</th>\n",
       "      <td>421</td>\n",
       "      <td>1.617630e+05</td>\n",
       "    </tr>\n",
       "    <tr>\n",
       "      <th>TPublico</th>\n",
       "      <td>19021</td>\n",
       "      <td>7.984318e+06</td>\n",
       "    </tr>\n",
       "  </tbody>\n",
       "</table>\n",
       "</div>"
      ],
      "text/plain": [
       "                f muestral  f poblacional\n",
       "s6p2                                     \n",
       "AutoCompartido        4096   1.690715e+06\n",
       "AutoSolo              3415   1.407550e+06\n",
       "Bicicleta              559   2.222137e+05\n",
       "Caminar               5392   2.003979e+06\n",
       "No aplica              332   1.355273e+05\n",
       "Otro                   421   1.617630e+05\n",
       "TPublico             19021   7.984318e+06"
      ]
     },
     "execution_count": 518,
     "metadata": {},
     "output_type": "execute_result"
    }
   ],
   "source": [
    "#Tipo de transporte usando factor de expansión (valores absolutos muestrales y con datos expandidos)\n",
    "\n",
    "s6p2_freq = mayores_act.groupby(by ='s6p2').agg({\"s6p2\": 'count',\"fexp\": 'sum'})\n",
    "s6p2_freq =pd.DataFrame(s6p2_freq)\n",
    "s6p2_freq.columns = ['f muestral', 'f poblacional']\n",
    "s6p2_freq"
   ]
  },
  {
   "cell_type": "code",
   "execution_count": 519,
   "metadata": {},
   "outputs": [
    {
     "data": {
      "text/html": [
       "<div>\n",
       "<style scoped>\n",
       "    .dataframe tbody tr th:only-of-type {\n",
       "        vertical-align: middle;\n",
       "    }\n",
       "\n",
       "    .dataframe tbody tr th {\n",
       "        vertical-align: top;\n",
       "    }\n",
       "\n",
       "    .dataframe thead th {\n",
       "        text-align: right;\n",
       "    }\n",
       "</style>\n",
       "<table border=\"1\" class=\"dataframe\">\n",
       "  <thead>\n",
       "    <tr style=\"text-align: right;\">\n",
       "      <th></th>\n",
       "      <th>% muestral</th>\n",
       "      <th>% poblacional</th>\n",
       "    </tr>\n",
       "    <tr>\n",
       "      <th>s6p2</th>\n",
       "      <th></th>\n",
       "      <th></th>\n",
       "    </tr>\n",
       "  </thead>\n",
       "  <tbody>\n",
       "    <tr>\n",
       "      <th>AutoCompartido</th>\n",
       "      <td>12.323986</td>\n",
       "      <td>12.426186</td>\n",
       "    </tr>\n",
       "    <tr>\n",
       "      <th>AutoSolo</th>\n",
       "      <td>10.275003</td>\n",
       "      <td>10.345019</td>\n",
       "    </tr>\n",
       "    <tr>\n",
       "      <th>Bicicleta</th>\n",
       "      <td>1.681911</td>\n",
       "      <td>1.633196</td>\n",
       "    </tr>\n",
       "    <tr>\n",
       "      <th>Caminar</th>\n",
       "      <td>16.223372</td>\n",
       "      <td>14.728569</td>\n",
       "    </tr>\n",
       "    <tr>\n",
       "      <th>No aplica</th>\n",
       "      <td>0.998917</td>\n",
       "      <td>0.996080</td>\n",
       "    </tr>\n",
       "    <tr>\n",
       "      <th>Otro</th>\n",
       "      <td>1.266699</td>\n",
       "      <td>1.188903</td>\n",
       "    </tr>\n",
       "    <tr>\n",
       "      <th>TPublico</th>\n",
       "      <td>57.230112</td>\n",
       "      <td>58.682047</td>\n",
       "    </tr>\n",
       "  </tbody>\n",
       "</table>\n",
       "</div>"
      ],
      "text/plain": [
       "                % muestral  % poblacional\n",
       "s6p2                                     \n",
       "AutoCompartido   12.323986      12.426186\n",
       "AutoSolo         10.275003      10.345019\n",
       "Bicicleta         1.681911       1.633196\n",
       "Caminar          16.223372      14.728569\n",
       "No aplica         0.998917       0.996080\n",
       "Otro              1.266699       1.188903\n",
       "TPublico         57.230112      58.682047"
      ]
     },
     "execution_count": 519,
     "metadata": {},
     "output_type": "execute_result"
    }
   ],
   "source": [
    "#Uso de bicicleta usando factor de expansión (porcentajes muestrales y con datos expandidos)\n",
    "s6p2_freq['f muestral']= s6p2_freq['f muestral']*100/s6p2_freq['f muestral'].sum()\n",
    "s6p2_freq['f poblacional']= s6p2_freq['f poblacional']*100/s6p2_freq['f poblacional'].sum()\n",
    "s6p2_freq_p=pd.DataFrame(s6p2_freq)\n",
    "s6p2_freq_p.columns = ['% muestral', '% poblacional']\n",
    "s6p2_freq_p"
   ]
  },
  {
   "cell_type": "markdown",
   "metadata": {},
   "source": [
    "#### Gráfico de tarta"
   ]
  },
  {
   "cell_type": "code",
   "execution_count": 520,
   "metadata": {},
   "outputs": [
    {
     "data": {
      "image/png": "[encoded data removed]",
      "text/plain": [
       "<Figure size 648x648 with 1 Axes>"
      ]
     },
     "metadata": {},
     "output_type": "display_data"
    }
   ],
   "source": [
    "plot = s6p2_freq_p['% poblacional'].plot(kind='pie', autopct='%.2f', figsize=(9, 9), title='Tipo de transporte')"
   ]
  },
  {
   "cell_type": "markdown",
   "metadata": {},
   "source": [
    "**Conclusión:** La mayoria de personas **58,58%** usan transporte público en su rutina diaria, seguido de la opción caminar con el **14,73%**. Al ser el transporte público el medio mas usado, los gobiernos deberian fomentar y gestionar el mejoramiento de la calidad de servicio de transporte público. Adicionalmente, debido a la pandemia esta información deberia alertar a las autoridades acerca del uso adecuado de este medio de transporte."
   ]
  },
  {
   "cell_type": "markdown",
   "metadata": {},
   "source": [
    "#### Razón principal para usar el medio de transporte declarado"
   ]
  },
  {
   "cell_type": "code",
   "execution_count": 521,
   "metadata": {},
   "outputs": [
    {
     "data": {
      "text/plain": [
       "(32904, 16)"
      ]
     },
     "execution_count": 521,
     "metadata": {},
     "output_type": "execute_result"
    }
   ],
   "source": [
    "#Filtrar personas que no declararon medio de transporte.\n",
    "\n",
    "medio_tr = mayores_act[mayores_act.s6p2 != \"No aplica\"]\n",
    "medio_tr = pd.DataFrame(medio_tr)\n",
    "medio_tr.shape"
   ]
  },
  {
   "cell_type": "code",
   "execution_count": 522,
   "metadata": {},
   "outputs": [
    {
     "data": {
      "text/html": [
       "<div>\n",
       "<style scoped>\n",
       "    .dataframe tbody tr th:only-of-type {\n",
       "        vertical-align: middle;\n",
       "    }\n",
       "\n",
       "    .dataframe tbody tr th {\n",
       "        vertical-align: top;\n",
       "    }\n",
       "\n",
       "    .dataframe thead th {\n",
       "        text-align: right;\n",
       "    }\n",
       "</style>\n",
       "<table border=\"1\" class=\"dataframe\">\n",
       "  <thead>\n",
       "    <tr style=\"text-align: right;\">\n",
       "      <th></th>\n",
       "      <th>f muestral</th>\n",
       "      <th>f poblacional</th>\n",
       "    </tr>\n",
       "    <tr>\n",
       "      <th>s6p3</th>\n",
       "      <th></th>\n",
       "      <th></th>\n",
       "    </tr>\n",
       "  </thead>\n",
       "  <tbody>\n",
       "    <tr>\n",
       "      <th></th>\n",
       "      <td>0</td>\n",
       "      <td>0.000000e+00</td>\n",
       "    </tr>\n",
       "    <tr>\n",
       "      <th>AhorroDinero</th>\n",
       "      <td>2880</td>\n",
       "      <td>1.232376e+06</td>\n",
       "    </tr>\n",
       "    <tr>\n",
       "      <th>Cercania</th>\n",
       "      <td>2992</td>\n",
       "      <td>1.112628e+06</td>\n",
       "    </tr>\n",
       "    <tr>\n",
       "      <th>Comodidad</th>\n",
       "      <td>4799</td>\n",
       "      <td>1.948216e+06</td>\n",
       "    </tr>\n",
       "    <tr>\n",
       "      <th>ConcienciaAmbiental</th>\n",
       "      <td>36</td>\n",
       "      <td>1.632422e+04</td>\n",
       "    </tr>\n",
       "    <tr>\n",
       "      <th>Necesidad</th>\n",
       "      <td>20400</td>\n",
       "      <td>8.395134e+06</td>\n",
       "    </tr>\n",
       "    <tr>\n",
       "      <th>Salud/Deporte</th>\n",
       "      <td>447</td>\n",
       "      <td>1.794610e+05</td>\n",
       "    </tr>\n",
       "    <tr>\n",
       "      <th>Seguridad</th>\n",
       "      <td>1350</td>\n",
       "      <td>5.863982e+05</td>\n",
       "    </tr>\n",
       "  </tbody>\n",
       "</table>\n",
       "</div>"
      ],
      "text/plain": [
       "                     f muestral  f poblacional\n",
       "s6p3                                          \n",
       "                              0   0.000000e+00\n",
       "AhorroDinero               2880   1.232376e+06\n",
       "Cercania                   2992   1.112628e+06\n",
       "Comodidad                  4799   1.948216e+06\n",
       "ConcienciaAmbiental          36   1.632422e+04\n",
       "Necesidad                 20400   8.395134e+06\n",
       "Salud/Deporte               447   1.794610e+05\n",
       "Seguridad                  1350   5.863982e+05"
      ]
     },
     "execution_count": 522,
     "metadata": {},
     "output_type": "execute_result"
    }
   ],
   "source": [
    "#Razon uso de transporte utilizando factor de expansión (valores absolutos muestrales y con datos expandidos)\n",
    "\n",
    "s6p3_freq = medio_tr.groupby(by ='s6p3').agg({\"s6p3\": 'count',\"fexp\": 'sum'})\n",
    "s6p3_freq =pd.DataFrame(s6p3_freq)\n",
    "s6p3_freq.columns = ['f muestral', 'f poblacional']\n",
    "s6p3_freq"
   ]
  },
  {
   "cell_type": "code",
   "execution_count": 523,
   "metadata": {},
   "outputs": [
    {
     "data": {
      "text/html": [
       "<div>\n",
       "<style scoped>\n",
       "    .dataframe tbody tr th:only-of-type {\n",
       "        vertical-align: middle;\n",
       "    }\n",
       "\n",
       "    .dataframe tbody tr th {\n",
       "        vertical-align: top;\n",
       "    }\n",
       "\n",
       "    .dataframe thead th {\n",
       "        text-align: right;\n",
       "    }\n",
       "</style>\n",
       "<table border=\"1\" class=\"dataframe\">\n",
       "  <thead>\n",
       "    <tr style=\"text-align: right;\">\n",
       "      <th></th>\n",
       "      <th>% muestral</th>\n",
       "      <th>% poblacional</th>\n",
       "    </tr>\n",
       "    <tr>\n",
       "      <th>s6p3</th>\n",
       "      <th></th>\n",
       "      <th></th>\n",
       "    </tr>\n",
       "  </thead>\n",
       "  <tbody>\n",
       "    <tr>\n",
       "      <th></th>\n",
       "      <td>0.000000</td>\n",
       "      <td>0.000000</td>\n",
       "    </tr>\n",
       "    <tr>\n",
       "      <th>AhorroDinero</th>\n",
       "      <td>8.752735</td>\n",
       "      <td>9.148675</td>\n",
       "    </tr>\n",
       "    <tr>\n",
       "      <th>Cercania</th>\n",
       "      <td>9.093119</td>\n",
       "      <td>8.259714</td>\n",
       "    </tr>\n",
       "    <tr>\n",
       "      <th>Comodidad</th>\n",
       "      <td>14.584853</td>\n",
       "      <td>14.462796</td>\n",
       "    </tr>\n",
       "    <tr>\n",
       "      <th>ConcienciaAmbiental</th>\n",
       "      <td>0.109409</td>\n",
       "      <td>0.121185</td>\n",
       "    </tr>\n",
       "    <tr>\n",
       "      <th>Necesidad</th>\n",
       "      <td>61.998541</td>\n",
       "      <td>62.322191</td>\n",
       "    </tr>\n",
       "    <tr>\n",
       "      <th>Salud/Deporte</th>\n",
       "      <td>1.358497</td>\n",
       "      <td>1.332248</td>\n",
       "    </tr>\n",
       "    <tr>\n",
       "      <th>Seguridad</th>\n",
       "      <td>4.102845</td>\n",
       "      <td>4.353191</td>\n",
       "    </tr>\n",
       "  </tbody>\n",
       "</table>\n",
       "</div>"
      ],
      "text/plain": [
       "                     % muestral  % poblacional\n",
       "s6p3                                          \n",
       "                       0.000000       0.000000\n",
       "AhorroDinero           8.752735       9.148675\n",
       "Cercania               9.093119       8.259714\n",
       "Comodidad             14.584853      14.462796\n",
       "ConcienciaAmbiental    0.109409       0.121185\n",
       "Necesidad             61.998541      62.322191\n",
       "Salud/Deporte          1.358497       1.332248\n",
       "Seguridad              4.102845       4.353191"
      ]
     },
     "execution_count": 523,
     "metadata": {},
     "output_type": "execute_result"
    }
   ],
   "source": [
    "#Razon uso de transporte utilizando factor de expansión (porcentajes muestrales y con datos expandidos)\n",
    "s6p3_freq['f muestral']= s6p3_freq['f muestral']*100/s6p3_freq['f muestral'].sum()\n",
    "s6p3_freq['f poblacional']= s6p3_freq['f poblacional']*100/s6p3_freq['f poblacional'].sum()\n",
    "s6p3_freq_p=pd.DataFrame(s6p3_freq)\n",
    "s6p3_freq_p.columns = ['% muestral', '% poblacional']\n",
    "s6p3_freq_p"
   ]
  },
  {
   "cell_type": "markdown",
   "metadata": {},
   "source": [
    "#### Grafico de tarta"
   ]
  },
  {
   "cell_type": "code",
   "execution_count": 524,
   "metadata": {},
   "outputs": [
    {
     "data": {
      "image/png": "[encoded data removed]",
      "text/plain": [
       "<Figure size 648x648 with 1 Axes>"
      ]
     },
     "metadata": {},
     "output_type": "display_data"
    }
   ],
   "source": [
    "plot = s6p3_freq_p['% poblacional'].plot(kind='pie', autopct='%.2f', figsize=(9, 9), title='Razon de uso')"
   ]
  },
  {
   "cell_type": "markdown",
   "metadata": {},
   "source": [
    "**Conclusión:** La mayoria de personas **62,32%** usan un medio de transporte determinado por necesidad, seguido de la opción comodidad con el **14,46%**."
   ]
  },
  {
   "cell_type": "markdown",
   "metadata": {},
   "source": [
    "#### Medio de transporte usado vs razón de uso"
   ]
  },
  {
   "cell_type": "code",
   "execution_count": 525,
   "metadata": {},
   "outputs": [
    {
     "data": {
      "text/html": [
       "<div>\n",
       "<style scoped>\n",
       "    .dataframe tbody tr th:only-of-type {\n",
       "        vertical-align: middle;\n",
       "    }\n",
       "\n",
       "    .dataframe tbody tr th {\n",
       "        vertical-align: top;\n",
       "    }\n",
       "\n",
       "    .dataframe thead th {\n",
       "        text-align: right;\n",
       "    }\n",
       "</style>\n",
       "<table border=\"1\" class=\"dataframe\">\n",
       "  <thead>\n",
       "    <tr style=\"text-align: right;\">\n",
       "      <th></th>\n",
       "      <th></th>\n",
       "      <th>% muestral</th>\n",
       "      <th>% poblacional</th>\n",
       "    </tr>\n",
       "    <tr>\n",
       "      <th>s6p2</th>\n",
       "      <th>s6p3</th>\n",
       "      <th></th>\n",
       "      <th></th>\n",
       "    </tr>\n",
       "  </thead>\n",
       "  <tbody>\n",
       "    <tr>\n",
       "      <th rowspan=\"7\" valign=\"top\">AutoCompartido</th>\n",
       "      <th>AhorroDinero</th>\n",
       "      <td>0.246171</td>\n",
       "      <td>0.269425</td>\n",
       "    </tr>\n",
       "    <tr>\n",
       "      <th>Cercania</th>\n",
       "      <td>0.051665</td>\n",
       "      <td>0.051090</td>\n",
       "    </tr>\n",
       "    <tr>\n",
       "      <th>Comodidad</th>\n",
       "      <td>5.339776</td>\n",
       "      <td>5.328640</td>\n",
       "    </tr>\n",
       "    <tr>\n",
       "      <th>ConcienciaAmbiental</th>\n",
       "      <td>0.003039</td>\n",
       "      <td>0.002996</td>\n",
       "    </tr>\n",
       "    <tr>\n",
       "      <th>Necesidad</th>\n",
       "      <td>5.333698</td>\n",
       "      <td>5.282424</td>\n",
       "    </tr>\n",
       "    <tr>\n",
       "      <th>Salud/Deporte</th>\n",
       "      <td>0.015196</td>\n",
       "      <td>0.018645</td>\n",
       "    </tr>\n",
       "    <tr>\n",
       "      <th>Seguridad</th>\n",
       "      <td>1.458789</td>\n",
       "      <td>1.597986</td>\n",
       "    </tr>\n",
       "    <tr>\n",
       "      <th rowspan=\"7\" valign=\"top\">AutoSolo</th>\n",
       "      <th>AhorroDinero</th>\n",
       "      <td>0.188427</td>\n",
       "      <td>0.200332</td>\n",
       "    </tr>\n",
       "    <tr>\n",
       "      <th>Cercania</th>\n",
       "      <td>0.024313</td>\n",
       "      <td>0.024209</td>\n",
       "    </tr>\n",
       "    <tr>\n",
       "      <th>Comodidad</th>\n",
       "      <td>5.728787</td>\n",
       "      <td>5.738255</td>\n",
       "    </tr>\n",
       "    <tr>\n",
       "      <th>ConcienciaAmbiental</th>\n",
       "      <td>0.006078</td>\n",
       "      <td>0.007539</td>\n",
       "    </tr>\n",
       "    <tr>\n",
       "      <th>Necesidad</th>\n",
       "      <td>3.403841</td>\n",
       "      <td>3.381242</td>\n",
       "    </tr>\n",
       "    <tr>\n",
       "      <th>Salud/Deporte</th>\n",
       "      <td>0.018235</td>\n",
       "      <td>0.019618</td>\n",
       "    </tr>\n",
       "    <tr>\n",
       "      <th>Seguridad</th>\n",
       "      <td>1.008996</td>\n",
       "      <td>1.077904</td>\n",
       "    </tr>\n",
       "    <tr>\n",
       "      <th rowspan=\"7\" valign=\"top\">Bicicleta</th>\n",
       "      <th>AhorroDinero</th>\n",
       "      <td>0.200584</td>\n",
       "      <td>0.203413</td>\n",
       "    </tr>\n",
       "    <tr>\n",
       "      <th>Cercania</th>\n",
       "      <td>0.258327</td>\n",
       "      <td>0.232785</td>\n",
       "    </tr>\n",
       "    <tr>\n",
       "      <th>Comodidad</th>\n",
       "      <td>0.230975</td>\n",
       "      <td>0.215855</td>\n",
       "    </tr>\n",
       "    <tr>\n",
       "      <th>ConcienciaAmbiental</th>\n",
       "      <td>0.030391</td>\n",
       "      <td>0.029175</td>\n",
       "    </tr>\n",
       "    <tr>\n",
       "      <th>Necesidad</th>\n",
       "      <td>0.717238</td>\n",
       "      <td>0.716070</td>\n",
       "    </tr>\n",
       "    <tr>\n",
       "      <th>Salud/Deporte</th>\n",
       "      <td>0.246171</td>\n",
       "      <td>0.240033</td>\n",
       "    </tr>\n",
       "    <tr>\n",
       "      <th>Seguridad</th>\n",
       "      <td>0.015196</td>\n",
       "      <td>0.012297</td>\n",
       "    </tr>\n",
       "    <tr>\n",
       "      <th rowspan=\"7\" valign=\"top\">Caminar</th>\n",
       "      <th>AhorroDinero</th>\n",
       "      <td>1.510455</td>\n",
       "      <td>1.453815</td>\n",
       "    </tr>\n",
       "    <tr>\n",
       "      <th>Cercania</th>\n",
       "      <td>8.284707</td>\n",
       "      <td>7.486400</td>\n",
       "    </tr>\n",
       "    <tr>\n",
       "      <th>Comodidad</th>\n",
       "      <td>0.726355</td>\n",
       "      <td>0.680184</td>\n",
       "    </tr>\n",
       "    <tr>\n",
       "      <th>ConcienciaAmbiental</th>\n",
       "      <td>0.033431</td>\n",
       "      <td>0.040070</td>\n",
       "    </tr>\n",
       "    <tr>\n",
       "      <th>Necesidad</th>\n",
       "      <td>4.704595</td>\n",
       "      <td>4.110134</td>\n",
       "    </tr>\n",
       "    <tr>\n",
       "      <th>Salud/Deporte</th>\n",
       "      <td>1.008996</td>\n",
       "      <td>0.986566</td>\n",
       "    </tr>\n",
       "    <tr>\n",
       "      <th>Seguridad</th>\n",
       "      <td>0.118527</td>\n",
       "      <td>0.119584</td>\n",
       "    </tr>\n",
       "    <tr>\n",
       "      <th rowspan=\"6\" valign=\"top\">Otro</th>\n",
       "      <th>AhorroDinero</th>\n",
       "      <td>0.094213</td>\n",
       "      <td>0.094555</td>\n",
       "    </tr>\n",
       "    <tr>\n",
       "      <th>Cercania</th>\n",
       "      <td>0.048626</td>\n",
       "      <td>0.040403</td>\n",
       "    </tr>\n",
       "    <tr>\n",
       "      <th>Comodidad</th>\n",
       "      <td>0.224897</td>\n",
       "      <td>0.228809</td>\n",
       "    </tr>\n",
       "    <tr>\n",
       "      <th>Necesidad</th>\n",
       "      <td>0.850960</td>\n",
       "      <td>0.776889</td>\n",
       "    </tr>\n",
       "    <tr>\n",
       "      <th>Salud/Deporte</th>\n",
       "      <td>0.012157</td>\n",
       "      <td>0.012174</td>\n",
       "    </tr>\n",
       "    <tr>\n",
       "      <th>Seguridad</th>\n",
       "      <td>0.048626</td>\n",
       "      <td>0.048035</td>\n",
       "    </tr>\n",
       "    <tr>\n",
       "      <th rowspan=\"7\" valign=\"top\">TPublico</th>\n",
       "      <th>AhorroDinero</th>\n",
       "      <td>6.512886</td>\n",
       "      <td>6.927135</td>\n",
       "    </tr>\n",
       "    <tr>\n",
       "      <th>Cercania</th>\n",
       "      <td>0.425480</td>\n",
       "      <td>0.424826</td>\n",
       "    </tr>\n",
       "    <tr>\n",
       "      <th>Comodidad</th>\n",
       "      <td>2.334063</td>\n",
       "      <td>2.271052</td>\n",
       "    </tr>\n",
       "    <tr>\n",
       "      <th>ConcienciaAmbiental</th>\n",
       "      <td>0.036470</td>\n",
       "      <td>0.041405</td>\n",
       "    </tr>\n",
       "    <tr>\n",
       "      <th>Necesidad</th>\n",
       "      <td>46.988208</td>\n",
       "      <td>48.055433</td>\n",
       "    </tr>\n",
       "    <tr>\n",
       "      <th>Salud/Deporte</th>\n",
       "      <td>0.057744</td>\n",
       "      <td>0.055212</td>\n",
       "    </tr>\n",
       "    <tr>\n",
       "      <th>Seguridad</th>\n",
       "      <td>1.452711</td>\n",
       "      <td>1.497386</td>\n",
       "    </tr>\n",
       "  </tbody>\n",
       "</table>\n",
       "</div>"
      ],
      "text/plain": [
       "                                    % muestral  % poblacional\n",
       "s6p2           s6p3                                          \n",
       "AutoCompartido AhorroDinero           0.246171       0.269425\n",
       "               Cercania               0.051665       0.051090\n",
       "               Comodidad              5.339776       5.328640\n",
       "               ConcienciaAmbiental    0.003039       0.002996\n",
       "               Necesidad              5.333698       5.282424\n",
       "               Salud/Deporte          0.015196       0.018645\n",
       "               Seguridad              1.458789       1.597986\n",
       "AutoSolo       AhorroDinero           0.188427       0.200332\n",
       "               Cercania               0.024313       0.024209\n",
       "               Comodidad              5.728787       5.738255\n",
       "               ConcienciaAmbiental    0.006078       0.007539\n",
       "               Necesidad              3.403841       3.381242\n",
       "               Salud/Deporte          0.018235       0.019618\n",
       "               Seguridad              1.008996       1.077904\n",
       "Bicicleta      AhorroDinero           0.200584       0.203413\n",
       "               Cercania               0.258327       0.232785\n",
       "               Comodidad              0.230975       0.215855\n",
       "               ConcienciaAmbiental    0.030391       0.029175\n",
       "               Necesidad              0.717238       0.716070\n",
       "               Salud/Deporte          0.246171       0.240033\n",
       "               Seguridad              0.015196       0.012297\n",
       "Caminar        AhorroDinero           1.510455       1.453815\n",
       "               Cercania               8.284707       7.486400\n",
       "               Comodidad              0.726355       0.680184\n",
       "               ConcienciaAmbiental    0.033431       0.040070\n",
       "               Necesidad              4.704595       4.110134\n",
       "               Salud/Deporte          1.008996       0.986566\n",
       "               Seguridad              0.118527       0.119584\n",
       "Otro           AhorroDinero           0.094213       0.094555\n",
       "               Cercania               0.048626       0.040403\n",
       "               Comodidad              0.224897       0.228809\n",
       "               Necesidad              0.850960       0.776889\n",
       "               Salud/Deporte          0.012157       0.012174\n",
       "               Seguridad              0.048626       0.048035\n",
       "TPublico       AhorroDinero           6.512886       6.927135\n",
       "               Cercania               0.425480       0.424826\n",
       "               Comodidad              2.334063       2.271052\n",
       "               ConcienciaAmbiental    0.036470       0.041405\n",
       "               Necesidad             46.988208      48.055433\n",
       "               Salud/Deporte          0.057744       0.055212\n",
       "               Seguridad              1.452711       1.497386"
      ]
     },
     "execution_count": 525,
     "metadata": {},
     "output_type": "execute_result"
    }
   ],
   "source": [
    "#valores absolutos muestrales y con datos expandidos\n",
    "s6p2_s6p3_freq = medio_tr.groupby(by =['s6p2','s6p3']).agg({\"s6p2\": 'count',\"fexp\": 'sum'})\n",
    "s6p2_s6p3_freq.columns = ['f muestral', 'f poblacional']\n",
    "\n",
    "##porcentajes muestrales y con datos expandidos\n",
    "s6p2_s6p3_freq['f muestral']= s6p2_s6p3_freq['f muestral']*100/s6p2_s6p3_freq['f muestral'].sum()\n",
    "s6p2_s6p3_freq['f poblacional']= s6p2_s6p3_freq['f poblacional']*100/s6p2_s6p3_freq['f poblacional'].sum()\n",
    "s6p2_s6p3_freq_p=pd.DataFrame(s6p2_s6p3_freq)\n",
    "s6p2_s6p3_freq_p.columns = ['% muestral', '% poblacional']\n",
    "sin_na_1 = ~np.isnan(s6p2_s6p3_freq_p['% poblacional'])\n",
    "s6p2_s6p3_freq_p[sin_na_1]\n"
   ]
  },
  {
   "cell_type": "markdown",
   "metadata": {},
   "source": [
    "**Conclusión:** La relación más frecuente entre el medio de trasporte usado en la rutina diaria y la razón de uso es el transporte público por necesidad **46,99%** seguido de caminar por cercania **8,28%**"
   ]
  },
  {
   "cell_type": "markdown",
   "metadata": {},
   "source": [
    "#### Tipo de transporte vs area"
   ]
  },
  {
   "cell_type": "markdown",
   "metadata": {},
   "source": [
    "#### Gráfico de barras"
   ]
  },
  {
   "cell_type": "code",
   "execution_count": 526,
   "metadata": {},
   "outputs": [
    {
     "data": {
      "text/plain": [
       "Text(0, 0.5, '% de uso')"
      ]
     },
     "execution_count": 526,
     "metadata": {},
     "output_type": "execute_result"
    },
    {
     "data": {
      "image/png": "[encoded data removed]",
      "text/plain": [
       "<Figure size 720x360 with 1 Axes>"
      ]
     },
     "metadata": {
      "needs_background": "light"
     },
     "output_type": "display_data"
    }
   ],
   "source": [
    "plot = pd.crosstab(index=medio_tr['area'], columns=mayores_act['s6p2']).apply(lambda r: r/r.sum() *100,\n",
    "                                              axis=1).plot(kind='bar')\n",
    "plt.grid()\n",
    "plt.xlabel(\"Area\")\n",
    "plt.ylabel(\"% de uso\")"
   ]
  },
  {
   "cell_type": "markdown",
   "metadata": {},
   "source": [
    "**Conclusión:** Del gráfico podemos concluir que en el área urbana es más frecuente el uso del transporte público en comparación con el aréa rural, mientras que en el área rural se camina mas que en el área urbana."
   ]
  },
  {
   "cell_type": "markdown",
   "metadata": {},
   "source": [
    "#### 3. Actividad física semanal"
   ]
  },
  {
   "cell_type": "code",
   "execution_count": 527,
   "metadata": {},
   "outputs": [
    {
     "data": {
      "text/html": [
       "<div>\n",
       "<style scoped>\n",
       "    .dataframe tbody tr th:only-of-type {\n",
       "        vertical-align: middle;\n",
       "    }\n",
       "\n",
       "    .dataframe tbody tr th {\n",
       "        vertical-align: top;\n",
       "    }\n",
       "\n",
       "    .dataframe thead th {\n",
       "        text-align: right;\n",
       "    }\n",
       "</style>\n",
       "<table border=\"1\" class=\"dataframe\">\n",
       "  <thead>\n",
       "    <tr style=\"text-align: right;\">\n",
       "      <th></th>\n",
       "      <th>f muestral</th>\n",
       "      <th>f poblacional</th>\n",
       "    </tr>\n",
       "    <tr>\n",
       "      <th>s6p4</th>\n",
       "      <th></th>\n",
       "      <th></th>\n",
       "    </tr>\n",
       "  </thead>\n",
       "  <tbody>\n",
       "    <tr>\n",
       "      <th>No</th>\n",
       "      <td>23999</td>\n",
       "      <td>9.696417e+06</td>\n",
       "    </tr>\n",
       "    <tr>\n",
       "      <th>Si</th>\n",
       "      <td>9237</td>\n",
       "      <td>3.909648e+06</td>\n",
       "    </tr>\n",
       "  </tbody>\n",
       "</table>\n",
       "</div>"
      ],
      "text/plain": [
       "      f muestral  f poblacional\n",
       "s6p4                           \n",
       "No         23999   9.696417e+06\n",
       "Si          9237   3.909648e+06"
      ]
     },
     "execution_count": 527,
     "metadata": {},
     "output_type": "execute_result"
    }
   ],
   "source": [
    "#Tipo de transporte usando factor de expansión (valores absolutos muestrales y con datos expandidos)\n",
    "\n",
    "s6p4_freq = mayores_act.groupby(by ='s6p4').agg({\"s6p4\": 'count',\"fexp\": 'sum'})\n",
    "s6p4_freq =pd.DataFrame(s6p4_freq)\n",
    "s6p4_freq.columns = ['f muestral', 'f poblacional']\n",
    "s6p4_freq"
   ]
  },
  {
   "cell_type": "code",
   "execution_count": 528,
   "metadata": {},
   "outputs": [
    {
     "data": {
      "text/html": [
       "<div>\n",
       "<style scoped>\n",
       "    .dataframe tbody tr th:only-of-type {\n",
       "        vertical-align: middle;\n",
       "    }\n",
       "\n",
       "    .dataframe tbody tr th {\n",
       "        vertical-align: top;\n",
       "    }\n",
       "\n",
       "    .dataframe thead th {\n",
       "        text-align: right;\n",
       "    }\n",
       "</style>\n",
       "<table border=\"1\" class=\"dataframe\">\n",
       "  <thead>\n",
       "    <tr style=\"text-align: right;\">\n",
       "      <th></th>\n",
       "      <th>% muestral</th>\n",
       "      <th>% poblacional</th>\n",
       "    </tr>\n",
       "    <tr>\n",
       "      <th>s6p4</th>\n",
       "      <th></th>\n",
       "      <th></th>\n",
       "    </tr>\n",
       "  </thead>\n",
       "  <tbody>\n",
       "    <tr>\n",
       "      <th>No</th>\n",
       "      <td>72.207847</td>\n",
       "      <td>71.265403</td>\n",
       "    </tr>\n",
       "    <tr>\n",
       "      <th>Si</th>\n",
       "      <td>27.792153</td>\n",
       "      <td>28.734597</td>\n",
       "    </tr>\n",
       "  </tbody>\n",
       "</table>\n",
       "</div>"
      ],
      "text/plain": [
       "      % muestral  % poblacional\n",
       "s6p4                           \n",
       "No     72.207847      71.265403\n",
       "Si     27.792153      28.734597"
      ]
     },
     "execution_count": 528,
     "metadata": {},
     "output_type": "execute_result"
    }
   ],
   "source": [
    "#Uso de bicicleta usando factor de expansión (porcentajes muestrales y con datos expandidos)\n",
    "s6p4_freq['f muestral']= s6p4_freq['f muestral']*100/s6p4_freq['f muestral'].sum()\n",
    "s6p4_freq['f poblacional']= s6p4_freq['f poblacional']*100/s6p4_freq['f poblacional'].sum()\n",
    "s6p4_freq_p=pd.DataFrame(s6p4_freq)\n",
    "s6p4_freq_p.columns = ['% muestral', '% poblacional']\n",
    "s6p4_freq_p"
   ]
  },
  {
   "cell_type": "markdown",
   "metadata": {},
   "source": [
    "#### Gráfico de tarta"
   ]
  },
  {
   "cell_type": "code",
   "execution_count": 529,
   "metadata": {},
   "outputs": [
    {
     "data": {
      "image/png": "[encoded data removed]",
      "text/plain": [
       "<Figure size 432x432 with 1 Axes>"
      ]
     },
     "metadata": {},
     "output_type": "display_data"
    }
   ],
   "source": [
    "plot = s6p4_freq_p['% poblacional'].plot(kind='pie', autopct='%.2f', figsize=(6, 6), title='Actividad física')"
   ]
  },
  {
   "cell_type": "markdown",
   "metadata": {},
   "source": [
    "**Conclusión:** El porcentaje de personas que realizan ejercicio físico semanal es el 28,73%. Se deben realizar campañas para promover el ejercicio físico continuo, la falta de ejercicio es un factor importante para desarrollar enfermedades graves como la obesidad, por lo tanto este es un asunto de salud pública que debe ser gestionado de manera adecuada."
   ]
  },
  {
   "cell_type": "markdown",
   "metadata": {},
   "source": [
    "#### Actividad física según sexo"
   ]
  },
  {
   "cell_type": "code",
   "execution_count": 530,
   "metadata": {},
   "outputs": [
    {
     "data": {
      "text/html": [
       "<div>\n",
       "<style scoped>\n",
       "    .dataframe tbody tr th:only-of-type {\n",
       "        vertical-align: middle;\n",
       "    }\n",
       "\n",
       "    .dataframe tbody tr th {\n",
       "        vertical-align: top;\n",
       "    }\n",
       "\n",
       "    .dataframe thead th {\n",
       "        text-align: right;\n",
       "    }\n",
       "</style>\n",
       "<table border=\"1\" class=\"dataframe\">\n",
       "  <thead>\n",
       "    <tr style=\"text-align: right;\">\n",
       "      <th></th>\n",
       "      <th></th>\n",
       "      <th>f muestral</th>\n",
       "      <th>f poblacional</th>\n",
       "    </tr>\n",
       "    <tr>\n",
       "      <th>s6p4</th>\n",
       "      <th>s1p2</th>\n",
       "      <th></th>\n",
       "      <th></th>\n",
       "    </tr>\n",
       "  </thead>\n",
       "  <tbody>\n",
       "    <tr>\n",
       "      <th rowspan=\"2\" valign=\"top\">No</th>\n",
       "      <th>Hombre</th>\n",
       "      <td>10700</td>\n",
       "      <td>4.342453e+06</td>\n",
       "    </tr>\n",
       "    <tr>\n",
       "      <th>Mujer</th>\n",
       "      <td>13299</td>\n",
       "      <td>5.353964e+06</td>\n",
       "    </tr>\n",
       "    <tr>\n",
       "      <th rowspan=\"2\" valign=\"top\">Si</th>\n",
       "      <th>Hombre</th>\n",
       "      <td>5529</td>\n",
       "      <td>2.316611e+06</td>\n",
       "    </tr>\n",
       "    <tr>\n",
       "      <th>Mujer</th>\n",
       "      <td>3708</td>\n",
       "      <td>1.593037e+06</td>\n",
       "    </tr>\n",
       "  </tbody>\n",
       "</table>\n",
       "</div>"
      ],
      "text/plain": [
       "             f muestral  f poblacional\n",
       "s6p4 s1p2                             \n",
       "No   Hombre       10700   4.342453e+06\n",
       "     Mujer        13299   5.353964e+06\n",
       "Si   Hombre        5529   2.316611e+06\n",
       "     Mujer         3708   1.593037e+06"
      ]
     },
     "execution_count": 530,
     "metadata": {},
     "output_type": "execute_result"
    }
   ],
   "source": [
    "#valores absolutos muestrales y con datos expandidos\n",
    "s6p4_s1p2_freq = mayores_act.groupby(by =['s6p4','s1p2']).agg({\"s6p4\": 'count',\"fexp\": 'sum'})\n",
    "s6p4_s1p2_freq.columns = ['f muestral', 'f poblacional']\n",
    "s6p4_s1p2_freq"
   ]
  },
  {
   "cell_type": "code",
   "execution_count": 531,
   "metadata": {},
   "outputs": [
    {
     "data": {
      "text/html": [
       "<div>\n",
       "<style scoped>\n",
       "    .dataframe tbody tr th:only-of-type {\n",
       "        vertical-align: middle;\n",
       "    }\n",
       "\n",
       "    .dataframe tbody tr th {\n",
       "        vertical-align: top;\n",
       "    }\n",
       "\n",
       "    .dataframe thead th {\n",
       "        text-align: right;\n",
       "    }\n",
       "</style>\n",
       "<table border=\"1\" class=\"dataframe\">\n",
       "  <thead>\n",
       "    <tr style=\"text-align: right;\">\n",
       "      <th></th>\n",
       "      <th></th>\n",
       "      <th>% muestral</th>\n",
       "      <th>% poblacional</th>\n",
       "    </tr>\n",
       "    <tr>\n",
       "      <th>s6p4</th>\n",
       "      <th>s1p2</th>\n",
       "      <th></th>\n",
       "      <th></th>\n",
       "    </tr>\n",
       "  </thead>\n",
       "  <tbody>\n",
       "    <tr>\n",
       "      <th rowspan=\"2\" valign=\"top\">No</th>\n",
       "      <th>Hombre</th>\n",
       "      <td>32.194006</td>\n",
       "      <td>31.915571</td>\n",
       "    </tr>\n",
       "    <tr>\n",
       "      <th>Mujer</th>\n",
       "      <td>40.013840</td>\n",
       "      <td>39.349832</td>\n",
       "    </tr>\n",
       "    <tr>\n",
       "      <th rowspan=\"2\" valign=\"top\">Si</th>\n",
       "      <th>Hombre</th>\n",
       "      <td>16.635576</td>\n",
       "      <td>17.026310</td>\n",
       "    </tr>\n",
       "    <tr>\n",
       "      <th>Mujer</th>\n",
       "      <td>11.156577</td>\n",
       "      <td>11.708287</td>\n",
       "    </tr>\n",
       "  </tbody>\n",
       "</table>\n",
       "</div>"
      ],
      "text/plain": [
       "             % muestral  % poblacional\n",
       "s6p4 s1p2                             \n",
       "No   Hombre   32.194006      31.915571\n",
       "     Mujer    40.013840      39.349832\n",
       "Si   Hombre   16.635576      17.026310\n",
       "     Mujer    11.156577      11.708287"
      ]
     },
     "execution_count": 531,
     "metadata": {},
     "output_type": "execute_result"
    }
   ],
   "source": [
    "#valores porcentuales muestrales y con datos expandidos\n",
    "s6p4_s1p2_freq['f muestral']= s6p4_s1p2_freq['f muestral']*100/s6p4_s1p2_freq['f muestral'].sum()\n",
    "s6p4_s1p2_freq['f poblacional']= s6p4_s1p2_freq['f poblacional']*100/s6p4_s1p2_freq['f poblacional'].sum()\n",
    "s6p4_s1p2_freq_p=pd.DataFrame(s6p4_s1p2_freq)\n",
    "s6p4_s1p2_freq_p.columns = ['% muestral', '% poblacional']\n",
    "s6p4_s1p2_freq_p"
   ]
  },
  {
   "cell_type": "markdown",
   "metadata": {},
   "source": [
    "#### Gráfico de barras"
   ]
  },
  {
   "cell_type": "code",
   "execution_count": 532,
   "metadata": {},
   "outputs": [
    {
     "data": {
      "text/plain": [
       "Text(0, 0.5, '% Actividad física')"
      ]
     },
     "execution_count": 532,
     "metadata": {},
     "output_type": "execute_result"
    },
    {
     "data": {
      "image/png": "[encoded data removed]",
      "text/plain": [
       "<Figure size 720x360 with 1 Axes>"
      ]
     },
     "metadata": {
      "needs_background": "light"
     },
     "output_type": "display_data"
    }
   ],
   "source": [
    "plot = pd.crosstab(index=mayores_act['s1p2'], columns=mayores_act['s6p4']).apply(lambda r: r/r.sum() *100,\n",
    "                                              axis=1).plot(kind='bar')\n",
    "plt.grid()\n",
    "plt.xlabel(\"Sexo\")\n",
    "plt.ylabel(\"% Actividad física\")"
   ]
  },
  {
   "cell_type": "markdown",
   "metadata": {},
   "source": [
    "**Conclusión:** De la gráfica se puede concluir que los hombres realizan actividad fisica semanal en mayor proporción que las mujeres."
   ]
  },
  {
   "cell_type": "markdown",
   "metadata": {},
   "source": [
    "#### Actividad física según área"
   ]
  },
  {
   "cell_type": "code",
   "execution_count": 533,
   "metadata": {},
   "outputs": [
    {
     "data": {
      "text/html": [
       "<div>\n",
       "<style scoped>\n",
       "    .dataframe tbody tr th:only-of-type {\n",
       "        vertical-align: middle;\n",
       "    }\n",
       "\n",
       "    .dataframe tbody tr th {\n",
       "        vertical-align: top;\n",
       "    }\n",
       "\n",
       "    .dataframe thead th {\n",
       "        text-align: right;\n",
       "    }\n",
       "</style>\n",
       "<table border=\"1\" class=\"dataframe\">\n",
       "  <thead>\n",
       "    <tr style=\"text-align: right;\">\n",
       "      <th></th>\n",
       "      <th></th>\n",
       "      <th>f muestral</th>\n",
       "      <th>f poblacional</th>\n",
       "    </tr>\n",
       "    <tr>\n",
       "      <th>s6p4</th>\n",
       "      <th>area</th>\n",
       "      <th></th>\n",
       "      <th></th>\n",
       "    </tr>\n",
       "  </thead>\n",
       "  <tbody>\n",
       "    <tr>\n",
       "      <th rowspan=\"2\" valign=\"top\">No</th>\n",
       "      <th>Rural</th>\n",
       "      <td>9773</td>\n",
       "      <td>3.219703e+06</td>\n",
       "    </tr>\n",
       "    <tr>\n",
       "      <th>Urbano</th>\n",
       "      <td>14226</td>\n",
       "      <td>6.476715e+06</td>\n",
       "    </tr>\n",
       "    <tr>\n",
       "      <th rowspan=\"2\" valign=\"top\">Si</th>\n",
       "      <th>Rural</th>\n",
       "      <td>2881</td>\n",
       "      <td>9.965906e+05</td>\n",
       "    </tr>\n",
       "    <tr>\n",
       "      <th>Urbano</th>\n",
       "      <td>6356</td>\n",
       "      <td>2.913057e+06</td>\n",
       "    </tr>\n",
       "  </tbody>\n",
       "</table>\n",
       "</div>"
      ],
      "text/plain": [
       "             f muestral  f poblacional\n",
       "s6p4 area                             \n",
       "No   Rural         9773   3.219703e+06\n",
       "     Urbano       14226   6.476715e+06\n",
       "Si   Rural         2881   9.965906e+05\n",
       "     Urbano        6356   2.913057e+06"
      ]
     },
     "execution_count": 533,
     "metadata": {},
     "output_type": "execute_result"
    }
   ],
   "source": [
    "#valores absolutos muestrales y con datos expandidos\n",
    "s6p4_area_freq = mayores_act.groupby(by =['s6p4','area']).agg({\"s6p4\": 'count',\"fexp\": 'sum'})\n",
    "s6p4_area_freq.columns = ['f muestral', 'f poblacional']\n",
    "s6p4_area_freq"
   ]
  },
  {
   "cell_type": "code",
   "execution_count": 534,
   "metadata": {},
   "outputs": [
    {
     "data": {
      "text/html": [
       "<div>\n",
       "<style scoped>\n",
       "    .dataframe tbody tr th:only-of-type {\n",
       "        vertical-align: middle;\n",
       "    }\n",
       "\n",
       "    .dataframe tbody tr th {\n",
       "        vertical-align: top;\n",
       "    }\n",
       "\n",
       "    .dataframe thead th {\n",
       "        text-align: right;\n",
       "    }\n",
       "</style>\n",
       "<table border=\"1\" class=\"dataframe\">\n",
       "  <thead>\n",
       "    <tr style=\"text-align: right;\">\n",
       "      <th></th>\n",
       "      <th></th>\n",
       "      <th>% muestral</th>\n",
       "      <th>% poblacional</th>\n",
       "    </tr>\n",
       "    <tr>\n",
       "      <th>s6p4</th>\n",
       "      <th>area</th>\n",
       "      <th></th>\n",
       "      <th></th>\n",
       "    </tr>\n",
       "  </thead>\n",
       "  <tbody>\n",
       "    <tr>\n",
       "      <th rowspan=\"2\" valign=\"top\">No</th>\n",
       "      <th>Rural</th>\n",
       "      <td>29.404862</td>\n",
       "      <td>23.663731</td>\n",
       "    </tr>\n",
       "    <tr>\n",
       "      <th>Urbano</th>\n",
       "      <td>42.802985</td>\n",
       "      <td>47.601672</td>\n",
       "    </tr>\n",
       "    <tr>\n",
       "      <th rowspan=\"2\" valign=\"top\">Si</th>\n",
       "      <th>Rural</th>\n",
       "      <td>8.668311</td>\n",
       "      <td>7.324605</td>\n",
       "    </tr>\n",
       "    <tr>\n",
       "      <th>Urbano</th>\n",
       "      <td>19.123842</td>\n",
       "      <td>21.409992</td>\n",
       "    </tr>\n",
       "  </tbody>\n",
       "</table>\n",
       "</div>"
      ],
      "text/plain": [
       "             % muestral  % poblacional\n",
       "s6p4 area                             \n",
       "No   Rural    29.404862      23.663731\n",
       "     Urbano   42.802985      47.601672\n",
       "Si   Rural     8.668311       7.324605\n",
       "     Urbano   19.123842      21.409992"
      ]
     },
     "execution_count": 534,
     "metadata": {},
     "output_type": "execute_result"
    }
   ],
   "source": [
    "#valores porcentuales muestrales y con datos expandidos\n",
    "s6p4_area_freq['f muestral']= s6p4_area_freq['f muestral']*100/s6p4_area_freq['f muestral'].sum()\n",
    "s6p4_area_freq['f poblacional']= s6p4_area_freq['f poblacional']*100/s6p4_area_freq['f poblacional'].sum()\n",
    "s6p4_area_freq_p=pd.DataFrame(s6p4_area_freq)\n",
    "s6p4_area_freq_p.columns = ['% muestral', '% poblacional']\n",
    "s6p4_area_freq_p"
   ]
  },
  {
   "cell_type": "markdown",
   "metadata": {},
   "source": [
    "#### Gráfico de barras"
   ]
  },
  {
   "cell_type": "code",
   "execution_count": 535,
   "metadata": {},
   "outputs": [
    {
     "data": {
      "text/plain": [
       "Text(0, 0.5, '% Actividad física')"
      ]
     },
     "execution_count": 535,
     "metadata": {},
     "output_type": "execute_result"
    },
    {
     "data": {
      "image/png": "[encoded data removed]",
      "text/plain": [
       "<Figure size 720x360 with 1 Axes>"
      ]
     },
     "metadata": {
      "needs_background": "light"
     },
     "output_type": "display_data"
    }
   ],
   "source": [
    "plot = pd.crosstab(index=mayores_act['area'], columns=mayores_act['s6p4']).apply(lambda r: r/r.sum() *100,\n",
    "                                              axis=1).plot(kind='bar')\n",
    "plt.grid()\n",
    "plt.xlabel(\"Area\")\n",
    "plt.ylabel(\"% Actividad física\")"
   ]
  },
  {
   "cell_type": "markdown",
   "metadata": {},
   "source": [
    "**Conclusión:** De la gráfica se puede concluir que en el área urbana se realiza actividad fisica semanal en mayor proporción que en el área rural. Generalmente en el área rural se tienen empleos que requieren más esfuerzo físico, esta podría ser una causa para que las personas en área rural realicen menos actividades de acondicionamiento físico."
   ]
  },
  {
   "cell_type": "markdown",
   "metadata": {},
   "source": [
    "#### Actividad física según nivel de instrucción"
   ]
  },
  {
   "cell_type": "code",
   "execution_count": 536,
   "metadata": {},
   "outputs": [
    {
     "data": {
      "text/html": [
       "<div>\n",
       "<style scoped>\n",
       "    .dataframe tbody tr th:only-of-type {\n",
       "        vertical-align: middle;\n",
       "    }\n",
       "\n",
       "    .dataframe tbody tr th {\n",
       "        vertical-align: top;\n",
       "    }\n",
       "\n",
       "    .dataframe thead th {\n",
       "        text-align: right;\n",
       "    }\n",
       "</style>\n",
       "<table border=\"1\" class=\"dataframe\">\n",
       "  <thead>\n",
       "    <tr style=\"text-align: right;\">\n",
       "      <th></th>\n",
       "      <th></th>\n",
       "      <th>f muestral</th>\n",
       "      <th>f poblacional</th>\n",
       "    </tr>\n",
       "    <tr>\n",
       "      <th>s6p4</th>\n",
       "      <th>s1p12a</th>\n",
       "      <th></th>\n",
       "      <th></th>\n",
       "    </tr>\n",
       "  </thead>\n",
       "  <tbody>\n",
       "    <tr>\n",
       "      <th rowspan=\"10\" valign=\"top\">No</th>\n",
       "      <th>Alfabetizacion</th>\n",
       "      <td>103</td>\n",
       "      <td>3.838536e+04</td>\n",
       "    </tr>\n",
       "    <tr>\n",
       "      <th>Bachillerato</th>\n",
       "      <td>3284</td>\n",
       "      <td>1.317514e+06</td>\n",
       "    </tr>\n",
       "    <tr>\n",
       "      <th>Basica</th>\n",
       "      <td>2382</td>\n",
       "      <td>1.041702e+06</td>\n",
       "    </tr>\n",
       "    <tr>\n",
       "      <th>Jardin</th>\n",
       "      <td>3</td>\n",
       "      <td>1.411951e+03</td>\n",
       "    </tr>\n",
       "    <tr>\n",
       "      <th>Ninguno</th>\n",
       "      <td>1446</td>\n",
       "      <td>5.384759e+05</td>\n",
       "    </tr>\n",
       "    <tr>\n",
       "      <th>Postgrado</th>\n",
       "      <td>159</td>\n",
       "      <td>6.841563e+04</td>\n",
       "    </tr>\n",
       "    <tr>\n",
       "      <th>Primaria</th>\n",
       "      <td>7830</td>\n",
       "      <td>2.948359e+06</td>\n",
       "    </tr>\n",
       "    <tr>\n",
       "      <th>Secundaria</th>\n",
       "      <td>5331</td>\n",
       "      <td>2.233684e+06</td>\n",
       "    </tr>\n",
       "    <tr>\n",
       "      <th>Superior</th>\n",
       "      <td>3007</td>\n",
       "      <td>1.308130e+06</td>\n",
       "    </tr>\n",
       "    <tr>\n",
       "      <th>Tecnologica</th>\n",
       "      <td>454</td>\n",
       "      <td>2.003389e+05</td>\n",
       "    </tr>\n",
       "    <tr>\n",
       "      <th rowspan=\"10\" valign=\"top\">Si</th>\n",
       "      <th>Alfabetizacion</th>\n",
       "      <td>12</td>\n",
       "      <td>4.379180e+03</td>\n",
       "    </tr>\n",
       "    <tr>\n",
       "      <th>Bachillerato</th>\n",
       "      <td>1955</td>\n",
       "      <td>7.790472e+05</td>\n",
       "    </tr>\n",
       "    <tr>\n",
       "      <th>Basica</th>\n",
       "      <td>2108</td>\n",
       "      <td>9.716433e+05</td>\n",
       "    </tr>\n",
       "    <tr>\n",
       "      <th>Jardin</th>\n",
       "      <td>0</td>\n",
       "      <td>NaN</td>\n",
       "    </tr>\n",
       "    <tr>\n",
       "      <th>Ninguno</th>\n",
       "      <td>63</td>\n",
       "      <td>2.550748e+04</td>\n",
       "    </tr>\n",
       "    <tr>\n",
       "      <th>Postgrado</th>\n",
       "      <td>161</td>\n",
       "      <td>7.075429e+04</td>\n",
       "    </tr>\n",
       "    <tr>\n",
       "      <th>Primaria</th>\n",
       "      <td>1112</td>\n",
       "      <td>4.411592e+05</td>\n",
       "    </tr>\n",
       "    <tr>\n",
       "      <th>Secundaria</th>\n",
       "      <td>1710</td>\n",
       "      <td>7.094764e+05</td>\n",
       "    </tr>\n",
       "    <tr>\n",
       "      <th>Superior</th>\n",
       "      <td>1853</td>\n",
       "      <td>7.993769e+05</td>\n",
       "    </tr>\n",
       "    <tr>\n",
       "      <th>Tecnologica</th>\n",
       "      <td>263</td>\n",
       "      <td>1.083040e+05</td>\n",
       "    </tr>\n",
       "  </tbody>\n",
       "</table>\n",
       "</div>"
      ],
      "text/plain": [
       "                     f muestral  f poblacional\n",
       "s6p4 s1p12a                                   \n",
       "No   Alfabetizacion         103   3.838536e+04\n",
       "     Bachillerato          3284   1.317514e+06\n",
       "     Basica                2382   1.041702e+06\n",
       "     Jardin                   3   1.411951e+03\n",
       "     Ninguno               1446   5.384759e+05\n",
       "     Postgrado              159   6.841563e+04\n",
       "     Primaria              7830   2.948359e+06\n",
       "     Secundaria            5331   2.233684e+06\n",
       "     Superior              3007   1.308130e+06\n",
       "     Tecnologica            454   2.003389e+05\n",
       "Si   Alfabetizacion          12   4.379180e+03\n",
       "     Bachillerato          1955   7.790472e+05\n",
       "     Basica                2108   9.716433e+05\n",
       "     Jardin                   0            NaN\n",
       "     Ninguno                 63   2.550748e+04\n",
       "     Postgrado              161   7.075429e+04\n",
       "     Primaria              1112   4.411592e+05\n",
       "     Secundaria            1710   7.094764e+05\n",
       "     Superior              1853   7.993769e+05\n",
       "     Tecnologica            263   1.083040e+05"
      ]
     },
     "execution_count": 536,
     "metadata": {},
     "output_type": "execute_result"
    }
   ],
   "source": [
    "#valores absolutos muestrales y con datos expandidos\n",
    "s6p4_s1p12a_freq = mayores_act.groupby(by =['s6p4','s1p12a']).agg({\"s6p4\": 'count',\"fexp\": 'sum'})\n",
    "s6p4_s1p12a_freq.columns = ['f muestral', 'f poblacional']\n",
    "s6p4_s1p12a_freq"
   ]
  },
  {
   "cell_type": "code",
   "execution_count": 537,
   "metadata": {},
   "outputs": [
    {
     "data": {
      "text/html": [
       "<div>\n",
       "<style scoped>\n",
       "    .dataframe tbody tr th:only-of-type {\n",
       "        vertical-align: middle;\n",
       "    }\n",
       "\n",
       "    .dataframe tbody tr th {\n",
       "        vertical-align: top;\n",
       "    }\n",
       "\n",
       "    .dataframe thead th {\n",
       "        text-align: right;\n",
       "    }\n",
       "</style>\n",
       "<table border=\"1\" class=\"dataframe\">\n",
       "  <thead>\n",
       "    <tr style=\"text-align: right;\">\n",
       "      <th></th>\n",
       "      <th></th>\n",
       "      <th>% muestral</th>\n",
       "      <th>% poblacional</th>\n",
       "    </tr>\n",
       "    <tr>\n",
       "      <th>s6p4</th>\n",
       "      <th>s1p12a</th>\n",
       "      <th></th>\n",
       "      <th></th>\n",
       "    </tr>\n",
       "  </thead>\n",
       "  <tbody>\n",
       "    <tr>\n",
       "      <th rowspan=\"10\" valign=\"top\">No</th>\n",
       "      <th>Alfabetizacion</th>\n",
       "      <td>0.309905</td>\n",
       "      <td>0.282119</td>\n",
       "    </tr>\n",
       "    <tr>\n",
       "      <th>Bachillerato</th>\n",
       "      <td>9.880852</td>\n",
       "      <td>9.683284</td>\n",
       "    </tr>\n",
       "    <tr>\n",
       "      <th>Basica</th>\n",
       "      <td>7.166927</td>\n",
       "      <td>7.656162</td>\n",
       "    </tr>\n",
       "    <tr>\n",
       "      <th>Jardin</th>\n",
       "      <td>0.009026</td>\n",
       "      <td>0.010377</td>\n",
       "    </tr>\n",
       "    <tr>\n",
       "      <th>Ninguno</th>\n",
       "      <td>4.350704</td>\n",
       "      <td>3.957616</td>\n",
       "    </tr>\n",
       "    <tr>\n",
       "      <th>Postgrado</th>\n",
       "      <td>0.478397</td>\n",
       "      <td>0.502832</td>\n",
       "    </tr>\n",
       "    <tr>\n",
       "      <th>Primaria</th>\n",
       "      <td>23.558792</td>\n",
       "      <td>21.669446</td>\n",
       "    </tr>\n",
       "    <tr>\n",
       "      <th>Secundaria</th>\n",
       "      <td>16.039836</td>\n",
       "      <td>16.416829</td>\n",
       "    </tr>\n",
       "    <tr>\n",
       "      <th>Superior</th>\n",
       "      <td>9.047418</td>\n",
       "      <td>9.614313</td>\n",
       "    </tr>\n",
       "    <tr>\n",
       "      <th>Tecnologica</th>\n",
       "      <td>1.365989</td>\n",
       "      <td>1.472424</td>\n",
       "    </tr>\n",
       "    <tr>\n",
       "      <th rowspan=\"10\" valign=\"top\">Si</th>\n",
       "      <th>Alfabetizacion</th>\n",
       "      <td>0.036105</td>\n",
       "      <td>0.032186</td>\n",
       "    </tr>\n",
       "    <tr>\n",
       "      <th>Bachillerato</th>\n",
       "      <td>5.882176</td>\n",
       "      <td>5.725735</td>\n",
       "    </tr>\n",
       "    <tr>\n",
       "      <th>Basica</th>\n",
       "      <td>6.342520</td>\n",
       "      <td>7.141251</td>\n",
       "    </tr>\n",
       "    <tr>\n",
       "      <th>Jardin</th>\n",
       "      <td>0.000000</td>\n",
       "      <td>NaN</td>\n",
       "    </tr>\n",
       "    <tr>\n",
       "      <th>Ninguno</th>\n",
       "      <td>0.189553</td>\n",
       "      <td>0.187471</td>\n",
       "    </tr>\n",
       "    <tr>\n",
       "      <th>Postgrado</th>\n",
       "      <td>0.484414</td>\n",
       "      <td>0.520020</td>\n",
       "    </tr>\n",
       "    <tr>\n",
       "      <th>Primaria</th>\n",
       "      <td>3.345770</td>\n",
       "      <td>3.242372</td>\n",
       "    </tr>\n",
       "    <tr>\n",
       "      <th>Secundaria</th>\n",
       "      <td>5.145023</td>\n",
       "      <td>5.214413</td>\n",
       "    </tr>\n",
       "    <tr>\n",
       "      <th>Superior</th>\n",
       "      <td>5.575280</td>\n",
       "      <td>5.875152</td>\n",
       "    </tr>\n",
       "    <tr>\n",
       "      <th>Tecnologica</th>\n",
       "      <td>0.791311</td>\n",
       "      <td>0.795998</td>\n",
       "    </tr>\n",
       "  </tbody>\n",
       "</table>\n",
       "</div>"
      ],
      "text/plain": [
       "                     % muestral  % poblacional\n",
       "s6p4 s1p12a                                   \n",
       "No   Alfabetizacion    0.309905       0.282119\n",
       "     Bachillerato      9.880852       9.683284\n",
       "     Basica            7.166927       7.656162\n",
       "     Jardin            0.009026       0.010377\n",
       "     Ninguno           4.350704       3.957616\n",
       "     Postgrado         0.478397       0.502832\n",
       "     Primaria         23.558792      21.669446\n",
       "     Secundaria       16.039836      16.416829\n",
       "     Superior          9.047418       9.614313\n",
       "     Tecnologica       1.365989       1.472424\n",
       "Si   Alfabetizacion    0.036105       0.032186\n",
       "     Bachillerato      5.882176       5.725735\n",
       "     Basica            6.342520       7.141251\n",
       "     Jardin            0.000000            NaN\n",
       "     Ninguno           0.189553       0.187471\n",
       "     Postgrado         0.484414       0.520020\n",
       "     Primaria          3.345770       3.242372\n",
       "     Secundaria        5.145023       5.214413\n",
       "     Superior          5.575280       5.875152\n",
       "     Tecnologica       0.791311       0.795998"
      ]
     },
     "execution_count": 537,
     "metadata": {},
     "output_type": "execute_result"
    }
   ],
   "source": [
    "#valores porcentuales muestrales y con datos expandidos\n",
    "s6p4_s1p12a_freq['f muestral']= s6p4_s1p12a_freq['f muestral']*100/s6p4_s1p12a_freq['f muestral'].sum()\n",
    "s6p4_s1p12a_freq['f poblacional']= s6p4_s1p12a_freq['f poblacional']*100/s6p4_s1p12a_freq['f poblacional'].sum()\n",
    "s6p4_s1p12a_freq_p=pd.DataFrame(s6p4_s1p12a_freq)\n",
    "s6p4_s1p12a_freq_p.columns = ['% muestral', '% poblacional']\n",
    "s6p4_s1p12a_freq_p"
   ]
  },
  {
   "cell_type": "markdown",
   "metadata": {},
   "source": [
    "#### Gráfico de barras"
   ]
  },
  {
   "cell_type": "code",
   "execution_count": 538,
   "metadata": {},
   "outputs": [
    {
     "data": {
      "text/plain": [
       "Text(0, 0.5, '% Actividad física')"
      ]
     },
     "execution_count": 538,
     "metadata": {},
     "output_type": "execute_result"
    },
    {
     "data": {
      "image/png": "[encoded data removed]",
      "text/plain": [
       "<Figure size 720x360 with 1 Axes>"
      ]
     },
     "metadata": {
      "needs_background": "light"
     },
     "output_type": "display_data"
    }
   ],
   "source": [
    "plot = pd.crosstab(index=mayores_act['s1p12a'], columns=mayores_act['s6p4']).apply(lambda r: r/r.sum() *100,\n",
    "                                              axis=1).plot(kind='bar')\n",
    "plt.grid()\n",
    "plt.xlabel(\"Nivel de Instrucción\")\n",
    "plt.ylabel(\"% Actividad física\")"
   ]
  },
  {
   "cell_type": "markdown",
   "metadata": {},
   "source": [
    "**Conclusión:** De la gráfica se puede concluir que a nivel porcentual, las personas que tienen un nivel de postgrado realizan  actividad física en mayor proporción."
   ]
  },
  {
   "cell_type": "markdown",
   "metadata": {},
   "source": [
    "***Elaborado por: Diana Méndez***"
   ]
  }
 ],
 "metadata": {
  "kernelspec": {
   "display_name": "Python 3",
   "language": "python",
   "name": "python3"
  },
  "language_info": {
   "codemirror_mode": {
    "name": "ipython",
    "version": 3
   },
   "file_extension": ".py",
   "mimetype": "text/x-python",
   "name": "python",
   "nbconvert_exporter": "python",
   "pygments_lexer": "ipython3",
   "version": "3.8.3"
  }
 },
 "nbformat": 4,
 "nbformat_minor": 4
}
